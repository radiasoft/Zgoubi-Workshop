{
 "cells": [
  {
   "cell_type": "code",
   "execution_count": 25,
   "metadata": {},
   "outputs": [],
   "source": [
    "%load_ext autoreload\n",
    "%autoreload 2"
   ]
  },
  {
   "cell_type": "markdown",
   "metadata": {},
   "source": [
    "# Zgoubidoo tutorial"
   ]
  },
  {
   "cell_type": "markdown",
   "metadata": {},
   "source": [
    "A gentle introduction to Zgoubidoo: a modern Python 3 interface to the Zgoubi ray-tracing code.\n",
    "\n",
    "Tutorial's objectives:\n",
    "- Build Zgoubi simulations from scratch with no advanced knowledge of Zgoubi or Python\n",
    "- Introduce key concepts usefull for a wide range of Zgoubi simulations\n",
    "- Highlights advantages of Zgoubidoo: ease of use, repeatability, speed (especially on multi-core computers, aka. any computers)"
   ]
  },
  {
   "cell_type": "markdown",
   "metadata": {},
   "source": [
    "## Getting started\n",
    "\n",
    "Assume you have the `zgoubi` executable located somewhere in your path."
   ]
  },
  {
   "cell_type": "markdown",
   "metadata": {},
   "source": [
    "### Import zgoubidoo"
   ]
  },
  {
   "cell_type": "code",
   "execution_count": 1,
   "metadata": {},
   "outputs": [],
   "source": [
    "import zgoubidoo\n",
    "from zgoubidoo.commands import *"
   ]
  },
  {
   "cell_type": "markdown",
   "metadata": {},
   "source": [
    "All physical quantities used by `zgoubidoo` have units. For simplicity the 'units registry' can get a short name:"
   ]
  },
  {
   "cell_type": "code",
   "execution_count": 2,
   "metadata": {},
   "outputs": [],
   "source": [
    "from zgoubidoo import ureg as _"
   ]
  },
  {
   "cell_type": "markdown",
   "metadata": {},
   "source": [
    "Let's have a first look at units:"
   ]
  },
  {
   "cell_type": "code",
   "execution_count": 3,
   "metadata": {},
   "outputs": [
    {
     "data": {
      "text/plain": [
       "0.021"
      ]
     },
     "execution_count": 3,
     "metadata": {},
     "output_type": "execute_result"
    }
   ],
   "source": [
    "a = 1 * _.m\n",
    "b = 1 * _.m + 10 * _.cm\n",
    "b += a\n",
    "b.to('hectometers').magnitude"
   ]
  },
  {
   "cell_type": "markdown",
   "metadata": {},
   "source": [
    "A bit more interesting:"
   ]
  },
  {
   "cell_type": "code",
   "execution_count": 4,
   "metadata": {},
   "outputs": [
    {
     "data": {
      "text/html": [
       "1.0 kilogauss meter"
      ],
      "text/latex": [
       "$1.0\\ \\mathrm{kilogauss} \\cdot \\mathrm{meter}$"
      ],
      "text/plain": [
       "<Quantity(1.0, 'kilogauss * meter')>"
      ]
     },
     "execution_count": 4,
     "metadata": {},
     "output_type": "execute_result"
    }
   ],
   "source": [
    "brho = 1 * _.tesla * 10 * _.cm\n",
    "brho.to('kilogauss meter')"
   ]
  },
  {
   "cell_type": "markdown",
   "metadata": {},
   "source": [
    "**Exercice**: define quantities in other units of interest for Zgoubi simulations. In particular, try angles, energies, etc."
   ]
  },
  {
   "cell_type": "markdown",
   "metadata": {},
   "source": [
    "### Import additionnal very useful Python packages"
   ]
  },
  {
   "cell_type": "code",
   "execution_count": 5,
   "metadata": {},
   "outputs": [],
   "source": [
    "%matplotlib inline\n",
    "import matplotlib.pyplot as plt\n",
    "import numpy as np\n",
    "import pandas as pd"
   ]
  },
  {
   "cell_type": "markdown",
   "metadata": {},
   "source": [
    "**Exercice**: Have a look at what `matplotlib`, `numpy` and `pandas` are and what they can do."
   ]
  },
  {
   "cell_type": "markdown",
   "metadata": {},
   "source": [
    "### A first look at Zgoubi keywords and Zgoubidoo commands"
   ]
  },
  {
   "cell_type": "markdown",
   "metadata": {},
   "source": [
    "All `zgoubi` commands ('KEYWORDS') have their equivalent `zgoubidoo` class. They all inhereit from the `zgoubidoo.commands.Command` base class which overloads a bunch of \"special\" Python functions. Most notably the `__str__` function."
   ]
  },
  {
   "cell_type": "code",
   "execution_count": 17,
   "metadata": {},
   "outputs": [
    {
     "data": {
      "text/plain": [
       "zgoubidoo.commands.magnetique.Quadrupole"
      ]
     },
     "execution_count": 17,
     "metadata": {},
     "output_type": "execute_result"
    }
   ],
   "source": [
    "Quadrupole"
   ]
  },
  {
   "cell_type": "code",
   "execution_count": 18,
   "metadata": {},
   "outputs": [
    {
     "data": {
      "text/plain": [
       "zgoubidoo.commands.magnetique.Venus"
      ]
     },
     "execution_count": 18,
     "metadata": {},
     "output_type": "execute_result"
    }
   ],
   "source": [
    "Venus"
   ]
  },
  {
   "cell_type": "code",
   "execution_count": 19,
   "metadata": {},
   "outputs": [
    {
     "data": {
      "text/plain": [
       "zgoubidoo.commands.commands.ChangRef"
      ]
     },
     "execution_count": 19,
     "metadata": {},
     "output_type": "execute_result"
    }
   ],
   "source": [
    "ChangRef"
   ]
  },
  {
   "cell_type": "code",
   "execution_count": 20,
   "metadata": {},
   "outputs": [
    {
     "data": {
      "text/plain": [
       "zgoubidoo.commands.commands.Fit"
      ]
     },
     "execution_count": 20,
     "metadata": {},
     "output_type": "execute_result"
    }
   ],
   "source": [
    "Fit"
   ]
  },
  {
   "cell_type": "code",
   "execution_count": 22,
   "metadata": {},
   "outputs": [
    {
     "data": {
      "text/plain": [
       "zgoubidoo.commands.particules.Particule"
      ]
     },
     "execution_count": 22,
     "metadata": {},
     "output_type": "execute_result"
    }
   ],
   "source": [
    "Particule"
   ]
  },
  {
   "cell_type": "code",
   "execution_count": 23,
   "metadata": {},
   "outputs": [
    {
     "data": {
      "text/plain": [
       "zgoubidoo.commands.fieldmaps.Tosca"
      ]
     },
     "execution_count": 23,
     "metadata": {},
     "output_type": "execute_result"
    }
   ],
   "source": [
    "Tosca"
   ]
  },
  {
   "cell_type": "markdown",
   "metadata": {},
   "source": [
    "**Exercice**: Find your favorite command. Complain if it's not available. (*bonus*) Implement a new command, just to see how easy it is."
   ]
  },
  {
   "cell_type": "markdown",
   "metadata": {},
   "source": [
    "And so on."
   ]
  },
  {
   "cell_type": "markdown",
   "metadata": {},
   "source": [
    "To create a command one needs to instanciate an object from the corresponding class:"
   ]
  },
  {
   "cell_type": "code",
   "execution_count": 24,
   "metadata": {},
   "outputs": [
    {
     "data": {
      "text/plain": [
       "\n",
       "        \n",
       "        'QUADRUPO' dd6437e35f\n",
       "        2\n",
       "        0.000000000000e+00 1.000000000000e+00 0.000000000000e+00\n",
       "        2.000000000000e+00 0.000000000000e+00\n",
       "        6 0.000000000000e+00 1.000000000000e+00 0.000000000000e+00 0.000000000000e+00 0.000000000000e+00 0.000000000000e+00\n",
       "        2.000000000000e+00 0.000000000000e+00\n",
       "        6 0.000000000000e+00 1.000000000000e+00 0.000000000000e+00 0.000000000000e+00 0.000000000000e+00 0.000000000000e+00\n",
       "        0.1\n",
       "        1 0.000000000000e+00 0.000000000000e+00 0.000000000000e+00\n",
       "        "
      ]
     },
     "execution_count": 24,
     "metadata": {},
     "output_type": "execute_result"
    }
   ],
   "source": [
    "Quadrupole()"
   ]
  },
  {
   "cell_type": "markdown",
   "metadata": {},
   "source": [
    "All commands have sensible (at least I'm aiming for that) default values. This means that it is possible to create a working command without changing anything.\n",
    "\n",
    "Note that the *LABEL1* attribute gets an automatically created random value. This is useful, see later.\n",
    "\n",
    "Of course the next step is to look at the parameters of the command. The `PARAMETERS` attribute of each class provides the full list of available parameters, along with their default values and a documentation string."
   ]
  },
  {
   "cell_type": "code",
   "execution_count": 32,
   "metadata": {},
   "outputs": [
    {
     "data": {
      "text/plain": [
       "{'LABEL1': ('',\n",
       "  'Primary label for the Zgoubi command (default: auto-generated hash).'),\n",
       " 'LABEL2': ('', 'Secondary label for the Zgoubi command.'),\n",
       " 'M': (<Quantity(0, 'megaelectronvolt_per_c2')>, 'Mass of the particle.'),\n",
       " 'Q': (<Quantity(0, 'coulomb')>, 'Charge of the particle.'),\n",
       " 'G': (0, 'Factor'),\n",
       " 'tau': (0, 'Lifetime of the particle.')}"
      ]
     },
     "execution_count": 32,
     "metadata": {},
     "output_type": "execute_result"
    }
   ],
   "source": [
    "Particule.PARAMETERS"
   ]
  },
  {
   "cell_type": "markdown",
   "metadata": {},
   "source": [
    "When the command is created those parameters are instanciated as `attributes`:"
   ]
  },
  {
   "cell_type": "code",
   "execution_count": 33,
   "metadata": {},
   "outputs": [
    {
     "data": {
      "text/plain": [
       "{'LABEL1': 'f7c04d1f6d',\n",
       " 'LABEL2': '',\n",
       " 'HEIGHT': <Quantity(20, 'centimeter')>,\n",
       " 'REFERENCE_FIELD_COMPONENT': 'BZ',\n",
       " 'KINEMATICS': None,\n",
       " 'WIDTH': <Quantity(50, 'centimeter')>,\n",
       " 'APERTURE_LEFT': <Quantity(10, 'centimeter')>,\n",
       " 'APERTURE_RIGHT': <Quantity(10, 'centimeter')>,\n",
       " 'APERTURE_TOP': <Quantity(10, 'centimeter')>,\n",
       " 'APERTURE_BOTTOM': <Quantity(10, 'centimeter')>,\n",
       " 'COLOR': 'blue',\n",
       " 'IL': 2,\n",
       " 'XL': <Quantity(0, 'centimeter')>,\n",
       " 'R0': <Quantity(1.0, 'centimeter')>,\n",
       " 'B0': <Quantity(0, 'kilogauss')>,\n",
       " 'XE': <Quantity(2.0, 'centimeter')>,\n",
       " 'LAM_E': <Quantity(0, 'centimeter')>,\n",
       " 'C0_E': 0,\n",
       " 'C1_E': 1,\n",
       " 'C2_E': 0,\n",
       " 'C3_E': 0,\n",
       " 'C4_E': 0,\n",
       " 'C5_E': 0,\n",
       " 'XS': <Quantity(2.0, 'centimeter')>,\n",
       " 'LAM_S': <Quantity(0, 'centimeter')>,\n",
       " 'C0_S': 0,\n",
       " 'C1_S': 1,\n",
       " 'C2_S': 0,\n",
       " 'C3_S': 0,\n",
       " 'C4_S': 0,\n",
       " 'C5_S': 0,\n",
       " 'XPAS': <Quantity(0.1, 'centimeter')>,\n",
       " 'KPOS': 1,\n",
       " 'XCE': <Quantity(0, 'centimeter')>,\n",
       " 'YCE': <Quantity(0, 'centimeter')>,\n",
       " 'ALE': <Quantity(0, 'radian')>}"
      ]
     },
     "execution_count": 33,
     "metadata": {},
     "output_type": "execute_result"
    }
   ],
   "source": [
    "Quadrupole().attributes"
   ]
  },
  {
   "cell_type": "markdown",
   "metadata": {},
   "source": [
    "Some have default values:"
   ]
  },
  {
   "cell_type": "code",
   "execution_count": 34,
   "metadata": {},
   "outputs": [
    {
     "data": {
      "text/plain": [
       "{'LABEL2': '',\n",
       " 'HEIGHT': <Quantity(20, 'centimeter')>,\n",
       " 'REFERENCE_FIELD_COMPONENT': 'BZ',\n",
       " 'KINEMATICS': None,\n",
       " 'WIDTH': <Quantity(50, 'centimeter')>,\n",
       " 'APERTURE_LEFT': <Quantity(10, 'centimeter')>,\n",
       " 'APERTURE_RIGHT': <Quantity(10, 'centimeter')>,\n",
       " 'APERTURE_TOP': <Quantity(10, 'centimeter')>,\n",
       " 'APERTURE_BOTTOM': <Quantity(10, 'centimeter')>,\n",
       " 'COLOR': 'blue',\n",
       " 'IL': 2,\n",
       " 'XL': <Quantity(0, 'centimeter')>,\n",
       " 'R0': <Quantity(1.0, 'centimeter')>,\n",
       " 'B0': <Quantity(0, 'kilogauss')>,\n",
       " 'LAM_E': <Quantity(0, 'centimeter')>,\n",
       " 'C0_E': 0,\n",
       " 'C1_E': 1,\n",
       " 'C2_E': 0,\n",
       " 'C3_E': 0,\n",
       " 'C4_E': 0,\n",
       " 'C5_E': 0,\n",
       " 'LAM_S': <Quantity(0, 'centimeter')>,\n",
       " 'C0_S': 0,\n",
       " 'C1_S': 1,\n",
       " 'C2_S': 0,\n",
       " 'C3_S': 0,\n",
       " 'C4_S': 0,\n",
       " 'C5_S': 0,\n",
       " 'XPAS': <Quantity(0.1, 'centimeter')>,\n",
       " 'KPOS': 1,\n",
       " 'XCE': <Quantity(0, 'centimeter')>,\n",
       " 'YCE': <Quantity(0, 'centimeter')>,\n",
       " 'ALE': <Quantity(0, 'radian')>}"
      ]
     },
     "execution_count": 34,
     "metadata": {},
     "output_type": "execute_result"
    }
   ],
   "source": [
    "Quadrupole().defaults"
   ]
  },
  {
   "cell_type": "markdown",
   "metadata": {},
   "source": [
    "Others have non-default values:"
   ]
  },
  {
   "cell_type": "code",
   "execution_count": 35,
   "metadata": {},
   "outputs": [
    {
     "data": {
      "text/plain": [
       "{'LABEL1': 'cdbb9a1b5c',\n",
       " 'XE': <Quantity(2.0, 'centimeter')>,\n",
       " 'XS': <Quantity(2.0, 'centimeter')>}"
      ]
     },
     "execution_count": 35,
     "metadata": {},
     "output_type": "execute_result"
    }
   ],
   "source": [
    "Quadrupole().nondefaults"
   ]
  },
  {
   "cell_type": "markdown",
   "metadata": {},
   "source": [
    "Note that the initializer of `Quadrupole` is taking the initiative of setting `XE` and `XS` to twice the bore radius."
   ]
  },
  {
   "cell_type": "markdown",
   "metadata": {},
   "source": [
    "Specific values for the attributes can be defined at the creation of the object:"
   ]
  },
  {
   "cell_type": "code",
   "execution_count": 38,
   "metadata": {},
   "outputs": [
    {
     "data": {
      "text/plain": [
       "\n",
       "        \n",
       "        'QUADRUPO' COOL_QUAD\n",
       "        2\n",
       "        2.000000000000e+02 1.000000000000e+00 0.000000000000e+00\n",
       "        2.000000000000e+00 0.000000000000e+00\n",
       "        6 0.000000000000e+00 1.000000000000e+00 0.000000000000e+00 0.000000000000e+00 0.000000000000e+00 0.000000000000e+00\n",
       "        2.000000000000e+00 0.000000000000e+00\n",
       "        6 0.000000000000e+00 1.000000000000e+00 0.000000000000e+00 0.000000000000e+00 0.000000000000e+00 0.000000000000e+00\n",
       "        3.0\n",
       "        1 0.000000000000e+00 0.000000000000e+00 0.000000000000e+00\n",
       "        "
      ]
     },
     "execution_count": 38,
     "metadata": {},
     "output_type": "execute_result"
    }
   ],
   "source": [
    "Quadrupole('COOL_QUAD', XL=2*_.meter, XPAS=3*_.cm)"
   ]
  },
  {
   "cell_type": "markdown",
   "metadata": {},
   "source": [
    "Of course it is possible to change and access the attributes values at any time:"
   ]
  },
  {
   "cell_type": "code",
   "execution_count": 44,
   "metadata": {},
   "outputs": [
    {
     "name": "stdout",
     "output_type": "stream",
     "text": [
      "The field at the pole tips is now 2 tesla\n"
     ]
    },
    {
     "data": {
      "text/plain": [
       "\n",
       "        \n",
       "        'QUADRUPO' COOL_QUAD\n",
       "        2\n",
       "        2.000000000000e+02 1.000000000000e+00 2.000000000000e+01\n",
       "        2.000000000000e+00 0.000000000000e+00\n",
       "        6 0.000000000000e+00 1.000000000000e+00 0.000000000000e+00 0.000000000000e+00 0.000000000000e+00 0.000000000000e+00\n",
       "        2.000000000000e+00 0.000000000000e+00\n",
       "        6 0.000000000000e+00 1.000000000000e+00 0.000000000000e+00 0.000000000000e+00 0.000000000000e+00 0.000000000000e+00\n",
       "        3.0\n",
       "        2 0.000000000000e+00 0.000000000000e+00 0.000000000000e+00\n",
       "        "
      ]
     },
     "execution_count": 44,
     "metadata": {},
     "output_type": "execute_result"
    }
   ],
   "source": [
    "my_quad = Quadrupole('COOL_QUAD', XL=2*_.m, XPAS=3*_.centimeter)\n",
    "my_quad.KPOS = 2\n",
    "my_quad.B0 = 2 * _.tesla\n",
    "print(f\"The field at the pole tips is now {my_quad.B0}.\")\n",
    "my_quad"
   ]
  },
  {
   "cell_type": "markdown",
   "metadata": {},
   "source": [
    "And look again at the nondefault attributes:"
   ]
  },
  {
   "cell_type": "code",
   "execution_count": 45,
   "metadata": {},
   "outputs": [
    {
     "data": {
      "text/plain": [
       "{'LABEL1': 'COOL_QUAD',\n",
       " 'XL': <Quantity(2, 'meter')>,\n",
       " 'B0': <Quantity(2, 'tesla')>,\n",
       " 'XE': <Quantity(2.0, 'centimeter')>,\n",
       " 'XS': <Quantity(2.0, 'centimeter')>,\n",
       " 'XPAS': <Quantity(3, 'centimeter')>,\n",
       " 'KPOS': 2}"
      ]
     },
     "execution_count": 45,
     "metadata": {},
     "output_type": "execute_result"
    }
   ],
   "source": [
    "my_quad.nondefaults"
   ]
  },
  {
   "cell_type": "markdown",
   "metadata": {},
   "source": [
    "**Exercice**: define other objects, explore the different Zgoubi keywords, change the attributes, etc. In particular: create a custom BEND, a custome DRIFT."
   ]
  },
  {
   "cell_type": "markdown",
   "metadata": {},
   "source": [
    "### Creating a first Zgoubi input file"
   ]
  },
  {
   "cell_type": "markdown",
   "metadata": {},
   "source": [
    "To create a zgoubi input file `zgoubidoo` provides a dedicated class: `zgoubidoo.Input`. An input can have a name and will hold a list of `zgoubidoo.commands` objects.\n",
    "\n",
    "The `zgoubidoo.Input` objects also override the `__str__` method, which allows to automatically print them or save them to files."
   ]
  },
  {
   "cell_type": "code",
   "execution_count": 46,
   "metadata": {},
   "outputs": [
    {
     "data": {
      "text/plain": [
       "beamline\n",
       "        'END' 765efdab8b \n",
       "        "
      ]
     },
     "execution_count": 46,
     "metadata": {},
     "output_type": "execute_result"
    }
   ],
   "source": [
    "zgoubidoo.Input()"
   ]
  },
  {
   "cell_type": "markdown",
   "metadata": {},
   "source": [
    "To make life easier, `zgoubidoo` will automatically add a `End` command at the end of each input."
   ]
  },
  {
   "cell_type": "markdown",
   "metadata": {},
   "source": [
    "Let's get started and create a FODO sequence."
   ]
  },
  {
   "cell_type": "code",
   "execution_count": 3,
   "metadata": {},
   "outputs": [
    {
     "data": {
      "text/plain": [
       "FODO\n",
       "        \n",
       "        'QUADRUPO' QF\n",
       "        2\n",
       "        1.000000000000e+02 1.000000000000e+00 1.000000000000e+01\n",
       "        2.000000000000e+00 0.000000000000e+00\n",
       "        6 0.000000000000e+00 1.000000000000e+00 0.000000000000e+00 0.000000000000e+00 0.000000000000e+00 0.000000000000e+00\n",
       "        2.000000000000e+00 0.000000000000e+00\n",
       "        6 0.000000000000e+00 1.000000000000e+00 0.000000000000e+00 0.000000000000e+00 0.000000000000e+00 0.000000000000e+00\n",
       "        0.1\n",
       "        1 0.000000000000e+00 0.000000000000e+00 0.000000000000e+00\n",
       "        \n",
       "        \n",
       "        'DRIFT' c2d697766c\n",
       "        1.000000000000e+02\n",
       "        \n",
       "        \n",
       "        'QUADRUPO' QD\n",
       "        2\n",
       "        1.000000000000e+02 1.000000000000e+00 -1.000000000000e+01\n",
       "        2.000000000000e+00 0.000000000000e+00\n",
       "        6 0.000000000000e+00 1.000000000000e+00 0.000000000000e+00 0.000000000000e+00 0.000000000000e+00 0.000000000000e+00\n",
       "        2.000000000000e+00 0.000000000000e+00\n",
       "        6 0.000000000000e+00 1.000000000000e+00 0.000000000000e+00 0.000000000000e+00 0.000000000000e+00 0.000000000000e+00\n",
       "        0.1\n",
       "        1 0.000000000000e+00 0.000000000000e+00 0.000000000000e+00\n",
       "        \n",
       "        \n",
       "        'DRIFT' 0b31cdd756\n",
       "        1.000000000000e+02\n",
       "        \n",
       "        'END' 098a5b02db \n",
       "        "
      ]
     },
     "execution_count": 3,
     "metadata": {},
     "output_type": "execute_result"
    }
   ],
   "source": [
    "qf = Quadrupole('QF', XL=1*_.m, B0=1 * _.tesla)\n",
    "qd = Quadrupole('QD', XL=1*_.m, B0=-1 * _.tesla)\n",
    "\n",
    "zi = zgoubidoo.Input(name='FODO', line=[\n",
    "    qf,\n",
    "    Drift(XL=1 * _.m),\n",
    "    qd,\n",
    "    Drift(XL=1 * _.m),\n",
    "])  # zi stands for `zgoubi input`\n",
    "zi"
   ]
  },
  {
   "cell_type": "markdown",
   "metadata": {},
   "source": [
    "We are close to being able to run this with Zgoubi. But one more thing: let's define the particle type and add a beam (*ie.* a `zgoubi` objet).\n",
    "\n",
    "Zgoubidoo defines classes for a relatively large set of common particles:"
   ]
  },
  {
   "cell_type": "code",
   "execution_count": 59,
   "metadata": {},
   "outputs": [
    {
     "data": {
      "text/plain": [
       "[('AntiMuon', zgoubidoo.commands.particules.AntiMuon),\n",
       " ('AntiProton', zgoubidoo.commands.particules.AntiProton),\n",
       " ('CarbonIon', zgoubidoo.commands.particules.CarbonIon),\n",
       " ('Electron', zgoubidoo.commands.particules.Electron),\n",
       " ('HMinus', zgoubidoo.commands.particules.HMinus),\n",
       " ('HeliumIon', zgoubidoo.commands.particules.HeliumIon),\n",
       " ('ImmortalAntiMuon', zgoubidoo.commands.particules.ImmortalAntiMuon),\n",
       " ('ImmortalMuon', zgoubidoo.commands.particules.ImmortalMuon),\n",
       " ('Ion', zgoubidoo.commands.particules.Ion),\n",
       " ('LeadIon', zgoubidoo.commands.particules.LeadIon),\n",
       " ('Muon', zgoubidoo.commands.particules.Muon),\n",
       " ('OxygenIon', zgoubidoo.commands.particules.OxygenIon),\n",
       " ('Particule', zgoubidoo.commands.particules.Particule),\n",
       " ('ParticuleType', zgoubidoo.commands.particules.ParticuleType),\n",
       " ('Pion', zgoubidoo.commands.particules.Pion),\n",
       " ('Positron', zgoubidoo.commands.particules.Positron),\n",
       " ('Proton', zgoubidoo.commands.particules.Proton),\n",
       " ('SulfurIon', zgoubidoo.commands.particules.SulfurIon),\n",
       " ('XenonIon', zgoubidoo.commands.particules.XenonIon),\n",
       " ('_Command', zgoubidoo.commands.commands.Command),\n",
       " ('_MetaCommand', zgoubidoo.commands.commands.CommandType)]"
      ]
     },
     "execution_count": 59,
     "metadata": {},
     "output_type": "execute_result"
    }
   ],
   "source": [
    "import inspect\n",
    "inspect.getmembers(zgoubidoo.commands.particules, inspect.isclass)"
   ]
  },
  {
   "cell_type": "markdown",
   "metadata": {},
   "source": [
    "Let's use a proton:"
   ]
  },
  {
   "cell_type": "code",
   "execution_count": 61,
   "metadata": {},
   "outputs": [
    {
     "data": {
      "text/plain": [
       "\n",
       "        'PARTICUL' PROTON\n",
       "        9.382720300000e+02 1.602176487000e-19 1.792847350500e+00 0.000000000000e+00 0.0\n",
       "        "
      ]
     },
     "execution_count": 61,
     "metadata": {},
     "output_type": "execute_result"
    }
   ],
   "source": [
    "Proton()"
   ]
  },
  {
   "cell_type": "markdown",
   "metadata": {},
   "source": [
    "We will also need to define the energy, momentum, etc. of the particles. To that end, `zgoubidoo` provides a very easy to use `Kinematics` class:"
   ]
  },
  {
   "cell_type": "code",
   "execution_count": 5,
   "metadata": {},
   "outputs": [
    {
     "data": {
      "text/plain": [
       "\n",
       "        Proton\n",
       "        Total energy: 1999.9999999999998 megaelectronvolt\n",
       "        Kinetic energy: 1061.7279699999997 megaelectronvolt\n",
       "        Momentum: 1.7662518500258333 gigaelectronvolt / speed_of_light\n",
       "        Magnetic rigidity: 5.891582002459293 meter * tesla\n",
       "        Range in water (protons only): 407.2585159114895 centimeter\n",
       "        Relativistic beta: 0.8831259250129166\n",
       "        Relativistic gamma: 2.1315779817075007\n",
       "        "
      ]
     },
     "execution_count": 5,
     "metadata": {},
     "output_type": "execute_result"
    }
   ],
   "source": [
    "k = zgoubidoo.Kinematics(2 * _.GeV)\n",
    "k"
   ]
  },
  {
   "cell_type": "markdown",
   "metadata": {},
   "source": [
    "The constructor will infer the quantity based on the units, and provide a bunch of conversions if needed:"
   ]
  },
  {
   "cell_type": "code",
   "execution_count": 66,
   "metadata": {},
   "outputs": [
    {
     "data": {
      "text/html": [
       "11.53792360043043 kilogauss meter"
      ],
      "text/latex": [
       "$11.53792360043043\\ \\mathrm{kilogauss} \\cdot \\mathrm{meter}$"
      ],
      "text/plain": [
       "<Quantity(11.53792360043043, 'kilogauss * meter')>"
      ]
     },
     "execution_count": 66,
     "metadata": {},
     "output_type": "execute_result"
    }
   ],
   "source": [
    "k.brho.to('kilogauss meter')"
   ]
  },
  {
   "cell_type": "markdown",
   "metadata": {},
   "source": [
    "Next step is to define a `zgoubi` *Objet*. We can either directly use the objet classes or use an abstraction provided by `zgoubidoo`: `Beam`.\n",
    "    \n",
    "Let's start with `Objet2`."
   ]
  },
  {
   "cell_type": "code",
   "execution_count": 69,
   "metadata": {},
   "outputs": [
    {
     "data": {
      "text/plain": [
       "\n",
       "        'OBJET' BUNCH\n",
       "        1.153792360043e+03\n",
       "        2.00\n",
       "        1 1\n",
       "        0.000000000000e+00 0.000000000000e+00 0.000000000000e+00 0.000000000000e+00 0.000000000000e+00 1.000000000000e+00 A\n",
       "        1"
      ]
     },
     "execution_count": 69,
     "metadata": {},
     "output_type": "execute_result"
    }
   ],
   "source": [
    "Objet2('BUNCH', BORO=k.brho)"
   ]
  },
  {
   "cell_type": "markdown",
   "metadata": {},
   "source": [
    "We are all set, let's redfine the `zgoubi.Input`:"
   ]
  },
  {
   "cell_type": "code",
   "execution_count": 28,
   "metadata": {},
   "outputs": [
    {
     "data": {
      "text/plain": [
       "FODO\n",
       "        'OBJET' BUNCH\n",
       "        5.891582002459e+03\n",
       "        2.00\n",
       "        1 1\n",
       "        0.000000000000e+00 0.000000000000e+00 0.000000000000e+00 0.000000000000e+00 0.000000000000e+00 1.000000000000e+00 A\n",
       "        1\n",
       "\n",
       "        'PARTICUL' PROTON\n",
       "        9.382720300000e+02 1.602176487000e-19 1.792847350500e+00 0.000000000000e+00 0.0\n",
       "        \n",
       "        \n",
       "        'QUADRUPO' QF\n",
       "        2\n",
       "        1.000000000000e+02 1.000000000000e+00 1.000000000000e+01\n",
       "        2.000000000000e+00 0.000000000000e+00\n",
       "        6 0.000000000000e+00 1.000000000000e+00 0.000000000000e+00 0.000000000000e+00 0.000000000000e+00 0.000000000000e+00\n",
       "        2.000000000000e+00 0.000000000000e+00\n",
       "        6 0.000000000000e+00 1.000000000000e+00 0.000000000000e+00 0.000000000000e+00 0.000000000000e+00 0.000000000000e+00\n",
       "        0.1\n",
       "        1 0.000000000000e+00 0.000000000000e+00 0.000000000000e+00\n",
       "        \n",
       "        \n",
       "        'DRIFT' 224f53c357\n",
       "        1.000000000000e+02\n",
       "        \n",
       "        \n",
       "        'QUADRUPO' QD\n",
       "        2\n",
       "        1.000000000000e+02 1.000000000000e+00 -1.000000000000e+01\n",
       "        2.000000000000e+00 0.000000000000e+00\n",
       "        6 0.000000000000e+00 1.000000000000e+00 0.000000000000e+00 0.000000000000e+00 0.000000000000e+00 0.000000000000e+00\n",
       "        2.000000000000e+00 0.000000000000e+00\n",
       "        6 0.000000000000e+00 1.000000000000e+00 0.000000000000e+00 0.000000000000e+00 0.000000000000e+00 0.000000000000e+00\n",
       "        0.1\n",
       "        1 0.000000000000e+00 0.000000000000e+00 0.000000000000e+00\n",
       "        \n",
       "        \n",
       "        'DRIFT' a7dfe6b7c9\n",
       "        1.000000000000e+02\n",
       "        \n",
       "        'END' c074ed587b \n",
       "        "
      ]
     },
     "execution_count": 28,
     "metadata": {},
     "output_type": "execute_result"
    }
   ],
   "source": [
    "qf = Quadrupole('QF', XL=1*_.m, B0=1 * _.tesla)\n",
    "qd = Quadrupole('QD', XL=1*_.m, B0=-1 * _.tesla)\n",
    "\n",
    "zi = zgoubidoo.Input(name='FODO', line=[\n",
    "    Objet2('BUNCH', BORO=k.brho),\n",
    "    Proton(),\n",
    "    qf,\n",
    "    Drift(XL=1 * _.m),\n",
    "    qd,\n",
    "    Drift(XL=1 * _.m),\n",
    "])  # zi stands for `zgoubi input`\n",
    "zi"
   ]
  },
  {
   "cell_type": "markdown",
   "metadata": {},
   "source": [
    "At this point you should be really impatient to run this with Zgoubi...\n",
    "\n",
    "As you guessed `zgoubidoo` provides a class `Zgoubi` which is an abstraction to the `zgoubi` executable:"
   ]
  },
  {
   "cell_type": "code",
   "execution_count": 7,
   "metadata": {},
   "outputs": [
    {
     "data": {
      "text/plain": [
       "<zgoubidoo.zgoubi.Zgoubi at 0x1186ae400>"
      ]
     },
     "execution_count": 7,
     "metadata": {},
     "output_type": "execute_result"
    }
   ],
   "source": [
    "z = zgoubidoo.Zgoubi()\n",
    "z"
   ]
  },
  {
   "cell_type": "markdown",
   "metadata": {},
   "source": [
    "It doesn't do much, but when you **call** it `zgoubi` will be run:"
   ]
  },
  {
   "cell_type": "code",
   "execution_count": 8,
   "metadata": {},
   "outputs": [
    {
     "data": {
      "text/plain": [
       "<zgoubidoo.zgoubi.Zgoubi at 0x1186ae400>"
      ]
     },
     "execution_count": 8,
     "metadata": {},
     "output_type": "execute_result"
    }
   ],
   "source": [
    "z(zi)"
   ]
  },
  {
   "cell_type": "markdown",
   "metadata": {},
   "source": [
    "Looked like nothing happened... but `zgoubi` has been executed.\n",
    "\n",
    "Now a little detour: `zgoubidoo` works beautifully with multi-threading, all in a transparent way. This means that you can launch multiple instances of `zgoubi` at the same time, even in an interactive session like this one, without blocking.\n",
    "\n",
    "The drawback is that you need to collect the results:"
   ]
  },
  {
   "cell_type": "code",
   "execution_count": 9,
   "metadata": {},
   "outputs": [
    {
     "data": {
      "text/plain": [
       "<zgoubidoo.zgoubi.ZgoubiResults at 0x1186ae630>"
      ]
     },
     "execution_count": 9,
     "metadata": {},
     "output_type": "execute_result"
    }
   ],
   "source": [
    "z.cleanup()\n",
    "zr = z(zi).collect()  # zr stands for 'zgoubi results'\n",
    "zr"
   ]
  },
  {
   "cell_type": "markdown",
   "metadata": {},
   "source": [
    "Once more, all the resutls are encapsulated in a `ZgoubiResults` class.\n",
    "\n",
    "It has many functionalities:"
   ]
  },
  {
   "cell_type": "code",
   "execution_count": 10,
   "metadata": {},
   "outputs": [
    {
     "name": "stdout",
     "output_type": "stream",
     "text": [
      "Results for mapping {}\n",
      "\n",
      "FODO\n",
      " 'OBJET' BUNCH                                                                                                1\n",
      "5.891582002459e+03\n",
      "2.00\n",
      "1 1\n",
      "0.000000000000e+00 0.000000000000e+00 0.000000000000e+00 0.000000000000e+00 0.000000000000e+00 1.000000000000e+00 A\n",
      "1\n",
      " \n",
      " 'PARTICUL' PROTON                                                                                            2\n",
      "9.382720300000e+02 1.602176487000e-19 1.792847350500e+00 0.000000000000e+00 0.0\n",
      " \n",
      " \n",
      " 'QUADRUPO' QF                                                                                                3\n",
      "2\n",
      "1.000000000000e+02 1.000000000000e+00 1.000000000000e+01\n",
      "2.000000000000e+00 0.000000000000e+00\n",
      "6 0.000000000000e+00 1.000000000000e+00 0.000000000000e+00 0.000000000000e+00 0.000000000000e+00 0.000000000000e+00\n",
      "2.000000000000e+00 0.000000000000e+00\n",
      "6 0.000000000000e+00 1.000000000000e+00 0.000000000000e+00 0.000000000000e+00 0.000000000000e+00 0.000000000000e+00\n",
      "0.1\n",
      "1 0.000000000000e+00 0.000000000000e+00 0.000000000000e+00\n",
      " \n",
      " \n",
      " 'DRIFT' bb013e20d3                                                                                           4\n",
      "1.000000000000e+02\n",
      " \n",
      " \n",
      " 'QUADRUPO' QD                                                                                                5\n",
      "2\n",
      "1.000000000000e+02 1.000000000000e+00 -1.000000000000e+01\n",
      "2.000000000000e+00 0.000000000000e+00\n",
      "6 0.000000000000e+00 1.000000000000e+00 0.000000000000e+00 0.000000000000e+00 0.000000000000e+00 0.000000000000e+00\n",
      "2.000000000000e+00 0.000000000000e+00\n",
      "6 0.000000000000e+00 1.000000000000e+00 0.000000000000e+00 0.000000000000e+00 0.000000000000e+00 0.000000000000e+00\n",
      "0.1\n",
      "1 0.000000000000e+00 0.000000000000e+00 0.000000000000e+00\n",
      " \n",
      " \n",
      " 'DRIFT' cf4fb10ea8                                                                                           6\n",
      "1.000000000000e+02\n",
      " \n",
      " 'END' bc018086bd                                                                                             7\n",
      "\n",
      "************************************************************************************************************************************\n",
      "      1  Keyword, label(s) :  OBJET       BUNCH                                                                        IPASS= 1\n",
      "\n",
      "                          MAGNETIC  RIGIDITY =       5891.582 kG*cm\n",
      "\n",
      "                                         TRAJECTOIRY SETTING UP\n",
      "\n",
      "                              OBJET  (2)  BUILT  UP  FROM       1 POINTS \n",
      "\n",
      "\n",
      "\n",
      "************************************************************************************************************************************\n",
      "      2  Keyword, label(s) :  PARTICUL    PROTON                                                                       IPASS= 1\n",
      "\n",
      "\n",
      "     Particle  properties :\n",
      "      \n",
      "                     Mass          =    938.272        MeV/c2\n",
      "                     Charge        =   1.602176E-19    C     \n",
      "                     G  factor     =    1.79285              \n",
      "\n",
      "              Reference  data :\n",
      "                    mag. rigidity (kG.cm)   :   5891.5820      =p/q, such that dev.=B*L/rigidity\n",
      "                    mass (MeV/c2)           :   938.27203    \n",
      "                    momentum (MeV/c)        :   1766.2519    \n",
      "                    energy, total (MeV)     :   2000.0000    \n",
      "                    energy, kinetic (MeV)   :   1061.7280    \n",
      "                    beta = v/c              :  0.8831259250    \n",
      "                    gamma                   :   2.131577982    \n",
      "                    beta*gamma              :   1.882451777    \n",
      "                    G*gamma                 :   3.821593937    \n",
      "                    electric rigidity (MeV) :   1559.822799    =T[eV]*(gamma+1)/gamma, such that dev.=E*L/rigidity\n",
      "  \n",
      " I, AMQ(1,I), AMQ(2,I)/QE, P/Pref, v/c, time, s :\n",
      "  \n",
      "     1   9.38272030E+02  1.00000000E+00  1.00000000E+00  8.83125925E-01  0.00000000E+00  0.00000000E+00\n",
      "\n",
      "************************************************************************************************************************************\n",
      "      3  Keyword, label(s) :  QUADRUPO    QF                                                                           IPASS= 1\n",
      "\n",
      "\n",
      "                OPEN FILE zgoubi.plt                                                                      \n",
      "                FOR PRINTING TRAJECTORIES\n",
      "\n",
      "\n",
      "      -----  QUADRUPOLE  : \n",
      "                Length  of  element  =    100.00000      cm\n",
      "                Bore  radius      RO =    1.0000      cm\n",
      "               B-QUADRUPOLE  =  1.0000000E+01 kG   (i.e.,   1.0000000E+01 * SCAL)\n",
      "\n",
      "               Entrance/exit field models are sharp edge\n",
      "               FINTE, FINTS, gap :    2.0000E+00   2.0000E+00   5.0000E-01\n",
      "\n",
      "                    Integration step :  0.1000     cm\n",
      "\n",
      "  A    1  1.0000     0.000     0.000     0.000     0.000          100.000     0.000     0.000     0.000     0.000            1\n",
      "\n",
      "\n",
      "                CONDITIONS  DE  MAXWELL  (     1001.  PAS )  :\n",
      "                       DIV(B)        LAPLACIEN(B)     ROTATIONNEL(B)\n",
      "                      0.000            0.000             0.000    \n",
      "                                       0.000             0.000    \n",
      "                                       0.000             0.000    \n",
      "                       LAPLACIEN SCALAIRE =   0.000    \n",
      "\n",
      "\n",
      "\n",
      "     KPOS =  1.  Change  of  frame  at  exit  of  element.\n",
      "          X =   0.000     CM   Y =   0.000     cm,  tilt  angle =   0.0000000     RAD\n",
      "\n",
      "\n",
      " Cumulative length of optical axis =    1.00000000     m ;  Time  (for ref. rigidity & particle) =   3.777084E-09 s \n",
      "\n",
      "************************************************************************************************************************************\n",
      "      4  Keyword, label(s) :  DRIFT       bb013e20d3                                                                   IPASS= 1\n",
      "\n",
      "\n",
      "                              Drift,  length =   100.00000  cm\n",
      "\n",
      "TRAJ #1 IEX,D,Y,T,Z,P,S,time :  1  0.000000E+00  0.000000E+00  0.000000E+00  0.000000E+00  0.000000E+00  2.0000000E+02  7.55417E-03\n",
      "\n",
      " Cumulative length of optical axis =    2.00000000     m   ;  Time  (for reference rigidity & particle) =   7.554168E-09 s \n",
      "\n",
      "************************************************************************************************************************************\n",
      "      5  Keyword, label(s) :  QUADRUPO    QD                                                                           IPASS= 1\n",
      "\n",
      "\n",
      "     zgoubi.plt                                                                      \n",
      "      already open...\n",
      "\n",
      "      -----  QUADRUPOLE  : \n",
      "                Length  of  element  =    100.00000      cm\n",
      "                Bore  radius      RO =    1.0000      cm\n",
      "               B-QUADRUPOLE  = -1.0000000E+01 kG   (i.e.,  -1.0000000E+01 * SCAL)\n",
      "\n",
      "               Entrance/exit field models are sharp edge\n",
      "               FINTE, FINTS, gap :    2.0000E+00   2.0000E+00   5.0000E-01\n",
      "\n",
      "                    Integration step :  0.1000     cm\n",
      "\n",
      "  A    1  1.0000     0.000     0.000     0.000     0.000          100.000     0.000     0.000     0.000     0.000            1\n",
      "\n",
      "\n",
      "                CONDITIONS  DE  MAXWELL  (     1001.  PAS )  :\n",
      "                       DIV(B)        LAPLACIEN(B)     ROTATIONNEL(B)\n",
      "                      0.000            0.000             0.000    \n",
      "                                       0.000             0.000    \n",
      "                                       0.000             0.000    \n",
      "                       LAPLACIEN SCALAIRE =   0.000    \n",
      "\n",
      "\n",
      "\n",
      "     KPOS =  1.  Change  of  frame  at  exit  of  element.\n",
      "          X =   0.000     CM   Y =   0.000     cm,  tilt  angle =   0.0000000     RAD\n",
      "\n",
      "\n",
      " Cumulative length of optical axis =    3.00000000     m ;  Time  (for ref. rigidity & particle) =   1.133125E-08 s \n",
      "\n",
      "************************************************************************************************************************************\n",
      "      6  Keyword, label(s) :  DRIFT       cf4fb10ea8                                                                   IPASS= 1\n",
      "\n",
      "\n",
      "                              Drift,  length =   100.00000  cm\n",
      "\n",
      "TRAJ #1 IEX,D,Y,T,Z,P,S,time :  1  0.000000E+00  0.000000E+00  0.000000E+00  0.000000E+00  0.000000E+00  4.0000000E+02  1.51083E-02\n",
      "\n",
      " Cumulative length of optical axis =    4.00000000     m   ;  Time  (for reference rigidity & particle) =   1.510834E-08 s \n",
      "\n",
      "************************************************************************************************************************************\n",
      "      7  Keyword, label(s) :  END                                                                                      IPASS= 1\n",
      "\n",
      "\n",
      "                             1 particles have been launched\n",
      "                     Made  it  to  the  end :      1\n",
      "\n",
      "************************************************************************************************************************************\n",
      " Pgm zgoubi : Execution ended normally, upon keyword END or FIN\n",
      "   \n",
      "            ZGOUBI RUN COMPLETED. \n",
      "\n",
      "  Zgoubi, author's dvlpmnt version.\n",
      "  Job  started  on  17-06-2019,  at  23:52:45 \n",
      "  JOB  ENDED  ON    17-06-2019,  AT  23:52:45 \n",
      "\n",
      "   CPU time, total :     5.7326999999999989E-002\n",
      "\n",
      "================================================================================================\n",
      "================================================================================================\n",
      "================================================================================================\n"
     ]
    }
   ],
   "source": [
    "zr.print()"
   ]
  },
  {
   "cell_type": "markdown",
   "metadata": {},
   "source": [
    "The default behavior of `ZgoubiResults.print()` is to show the `zgoubi.res` file.\n",
    "\n",
    "It is possible to look at other results."
   ]
  },
  {
   "cell_type": "code",
   "execution_count": 11,
   "metadata": {},
   "outputs": [
    {
     "name": "stdout",
     "output_type": "stream",
     "text": [
      "Results for mapping {}\n",
      "\n",
      "\n",
      "  Zgoubi, author's dvlpmnt version.\n",
      "  Job  started  on  17-06-2019,  at  23:52:45 \n",
      "   Copying  zgoubi.dat  into  zgoubi.res,\n",
      "   numbering  and  labeling  elements...\n",
      "\n",
      " Title : FODO                                                                            \n",
      "\n",
      "\n",
      "    1/    7 OBJET     /BUNCH               /                                    \n",
      "    2/    7 PARTICUL  /PROTON              /                                    \n",
      "    3/    7 QUADRUPO  /QF                  /                                    \n",
      "    4/    7 DRIFT     /bb013e20d3          /                                    \n",
      "    5/    7 QUADRUPO  /QD                  /                                    \n",
      "    6/    7 DRIFT     /cf4fb10ea8          /                                    \n",
      "    7/    7 END       /                    /                                    \n",
      "\n",
      " Pgm zgoubi : Execution ended normally, upon keyword END or FIN.\n",
      "\n",
      "  Zgoubi, author's dvlpmnt version.\n",
      "  Job  started  on  17-06-2019,  at  23:52:45 \n",
      "  JOB  ENDED  ON    17-06-2019,  AT  23:52:45 \n",
      "\n",
      "   CPU time, total :     5.7326999999999989E-002\n",
      "\n",
      "================================================================================================\n",
      "================================================================================================\n",
      "================================================================================================\n"
     ]
    }
   ],
   "source": [
    "zr.print('stdout')"
   ]
  },
  {
   "cell_type": "markdown",
   "metadata": {},
   "source": [
    "OK, now this is really cool! Look at this:"
   ]
  },
  {
   "cell_type": "code",
   "execution_count": 12,
   "metadata": {},
   "outputs": [
    {
     "data": {
      "text/html": [
       "<div>\n",
       "<style scoped>\n",
       "    .dataframe tbody tr th:only-of-type {\n",
       "        vertical-align: middle;\n",
       "    }\n",
       "\n",
       "    .dataframe tbody tr th {\n",
       "        vertical-align: top;\n",
       "    }\n",
       "\n",
       "    .dataframe thead th {\n",
       "        text-align: right;\n",
       "    }\n",
       "</style>\n",
       "<table border=\"1\" class=\"dataframe\">\n",
       "  <thead>\n",
       "    <tr style=\"text-align: right;\">\n",
       "      <th></th>\n",
       "      <th>Do-1</th>\n",
       "      <th>Yo</th>\n",
       "      <th>To</th>\n",
       "      <th>Zo</th>\n",
       "      <th>Po</th>\n",
       "      <th>So</th>\n",
       "      <th>to</th>\n",
       "      <th>D-1</th>\n",
       "      <th>T</th>\n",
       "      <th>Z</th>\n",
       "      <th>...</th>\n",
       "      <th>YR</th>\n",
       "      <th>ZR</th>\n",
       "      <th>XG</th>\n",
       "      <th>YG</th>\n",
       "      <th>ZG</th>\n",
       "      <th>XRG</th>\n",
       "      <th>YRG</th>\n",
       "      <th>ZRG</th>\n",
       "      <th>TG</th>\n",
       "      <th>PG</th>\n",
       "    </tr>\n",
       "  </thead>\n",
       "  <tbody>\n",
       "    <tr>\n",
       "      <th>0</th>\n",
       "      <td>0.0</td>\n",
       "      <td>0.0</td>\n",
       "      <td>0.0</td>\n",
       "      <td>0.0</td>\n",
       "      <td>0.0</td>\n",
       "      <td>0.0</td>\n",
       "      <td>0.0</td>\n",
       "      <td>0.0</td>\n",
       "      <td>0.0</td>\n",
       "      <td>0.0</td>\n",
       "      <td>...</td>\n",
       "      <td>0.0</td>\n",
       "      <td>0.0</td>\n",
       "      <td>0.000</td>\n",
       "      <td>0.0</td>\n",
       "      <td>0.0</td>\n",
       "      <td>1.000</td>\n",
       "      <td>0.0</td>\n",
       "      <td>0.0</td>\n",
       "      <td>0.0</td>\n",
       "      <td>0.0</td>\n",
       "    </tr>\n",
       "    <tr>\n",
       "      <th>1</th>\n",
       "      <td>0.0</td>\n",
       "      <td>0.0</td>\n",
       "      <td>0.0</td>\n",
       "      <td>0.0</td>\n",
       "      <td>0.0</td>\n",
       "      <td>0.0</td>\n",
       "      <td>0.0</td>\n",
       "      <td>0.0</td>\n",
       "      <td>0.0</td>\n",
       "      <td>0.0</td>\n",
       "      <td>...</td>\n",
       "      <td>0.0</td>\n",
       "      <td>0.0</td>\n",
       "      <td>0.001</td>\n",
       "      <td>0.0</td>\n",
       "      <td>0.0</td>\n",
       "      <td>1.001</td>\n",
       "      <td>0.0</td>\n",
       "      <td>0.0</td>\n",
       "      <td>0.0</td>\n",
       "      <td>0.0</td>\n",
       "    </tr>\n",
       "    <tr>\n",
       "      <th>2</th>\n",
       "      <td>0.0</td>\n",
       "      <td>0.0</td>\n",
       "      <td>0.0</td>\n",
       "      <td>0.0</td>\n",
       "      <td>0.0</td>\n",
       "      <td>0.0</td>\n",
       "      <td>0.0</td>\n",
       "      <td>0.0</td>\n",
       "      <td>0.0</td>\n",
       "      <td>0.0</td>\n",
       "      <td>...</td>\n",
       "      <td>0.0</td>\n",
       "      <td>0.0</td>\n",
       "      <td>0.002</td>\n",
       "      <td>0.0</td>\n",
       "      <td>0.0</td>\n",
       "      <td>1.002</td>\n",
       "      <td>0.0</td>\n",
       "      <td>0.0</td>\n",
       "      <td>0.0</td>\n",
       "      <td>0.0</td>\n",
       "    </tr>\n",
       "    <tr>\n",
       "      <th>3</th>\n",
       "      <td>0.0</td>\n",
       "      <td>0.0</td>\n",
       "      <td>0.0</td>\n",
       "      <td>0.0</td>\n",
       "      <td>0.0</td>\n",
       "      <td>0.0</td>\n",
       "      <td>0.0</td>\n",
       "      <td>0.0</td>\n",
       "      <td>0.0</td>\n",
       "      <td>0.0</td>\n",
       "      <td>...</td>\n",
       "      <td>0.0</td>\n",
       "      <td>0.0</td>\n",
       "      <td>0.003</td>\n",
       "      <td>0.0</td>\n",
       "      <td>0.0</td>\n",
       "      <td>1.003</td>\n",
       "      <td>0.0</td>\n",
       "      <td>0.0</td>\n",
       "      <td>0.0</td>\n",
       "      <td>0.0</td>\n",
       "    </tr>\n",
       "    <tr>\n",
       "      <th>4</th>\n",
       "      <td>0.0</td>\n",
       "      <td>0.0</td>\n",
       "      <td>0.0</td>\n",
       "      <td>0.0</td>\n",
       "      <td>0.0</td>\n",
       "      <td>0.0</td>\n",
       "      <td>0.0</td>\n",
       "      <td>0.0</td>\n",
       "      <td>0.0</td>\n",
       "      <td>0.0</td>\n",
       "      <td>...</td>\n",
       "      <td>0.0</td>\n",
       "      <td>0.0</td>\n",
       "      <td>0.004</td>\n",
       "      <td>0.0</td>\n",
       "      <td>0.0</td>\n",
       "      <td>1.004</td>\n",
       "      <td>0.0</td>\n",
       "      <td>0.0</td>\n",
       "      <td>0.0</td>\n",
       "      <td>0.0</td>\n",
       "    </tr>\n",
       "    <tr>\n",
       "      <th>5</th>\n",
       "      <td>0.0</td>\n",
       "      <td>0.0</td>\n",
       "      <td>0.0</td>\n",
       "      <td>0.0</td>\n",
       "      <td>0.0</td>\n",
       "      <td>0.0</td>\n",
       "      <td>0.0</td>\n",
       "      <td>0.0</td>\n",
       "      <td>0.0</td>\n",
       "      <td>0.0</td>\n",
       "      <td>...</td>\n",
       "      <td>0.0</td>\n",
       "      <td>0.0</td>\n",
       "      <td>0.005</td>\n",
       "      <td>0.0</td>\n",
       "      <td>0.0</td>\n",
       "      <td>1.005</td>\n",
       "      <td>0.0</td>\n",
       "      <td>0.0</td>\n",
       "      <td>0.0</td>\n",
       "      <td>0.0</td>\n",
       "    </tr>\n",
       "    <tr>\n",
       "      <th>6</th>\n",
       "      <td>0.0</td>\n",
       "      <td>0.0</td>\n",
       "      <td>0.0</td>\n",
       "      <td>0.0</td>\n",
       "      <td>0.0</td>\n",
       "      <td>0.0</td>\n",
       "      <td>0.0</td>\n",
       "      <td>0.0</td>\n",
       "      <td>0.0</td>\n",
       "      <td>0.0</td>\n",
       "      <td>...</td>\n",
       "      <td>0.0</td>\n",
       "      <td>0.0</td>\n",
       "      <td>0.006</td>\n",
       "      <td>0.0</td>\n",
       "      <td>0.0</td>\n",
       "      <td>1.006</td>\n",
       "      <td>0.0</td>\n",
       "      <td>0.0</td>\n",
       "      <td>0.0</td>\n",
       "      <td>0.0</td>\n",
       "    </tr>\n",
       "    <tr>\n",
       "      <th>7</th>\n",
       "      <td>0.0</td>\n",
       "      <td>0.0</td>\n",
       "      <td>0.0</td>\n",
       "      <td>0.0</td>\n",
       "      <td>0.0</td>\n",
       "      <td>0.0</td>\n",
       "      <td>0.0</td>\n",
       "      <td>0.0</td>\n",
       "      <td>0.0</td>\n",
       "      <td>0.0</td>\n",
       "      <td>...</td>\n",
       "      <td>0.0</td>\n",
       "      <td>0.0</td>\n",
       "      <td>0.007</td>\n",
       "      <td>0.0</td>\n",
       "      <td>0.0</td>\n",
       "      <td>1.007</td>\n",
       "      <td>0.0</td>\n",
       "      <td>0.0</td>\n",
       "      <td>0.0</td>\n",
       "      <td>0.0</td>\n",
       "    </tr>\n",
       "    <tr>\n",
       "      <th>8</th>\n",
       "      <td>0.0</td>\n",
       "      <td>0.0</td>\n",
       "      <td>0.0</td>\n",
       "      <td>0.0</td>\n",
       "      <td>0.0</td>\n",
       "      <td>0.0</td>\n",
       "      <td>0.0</td>\n",
       "      <td>0.0</td>\n",
       "      <td>0.0</td>\n",
       "      <td>0.0</td>\n",
       "      <td>...</td>\n",
       "      <td>0.0</td>\n",
       "      <td>0.0</td>\n",
       "      <td>0.008</td>\n",
       "      <td>0.0</td>\n",
       "      <td>0.0</td>\n",
       "      <td>1.008</td>\n",
       "      <td>0.0</td>\n",
       "      <td>0.0</td>\n",
       "      <td>0.0</td>\n",
       "      <td>0.0</td>\n",
       "    </tr>\n",
       "    <tr>\n",
       "      <th>9</th>\n",
       "      <td>0.0</td>\n",
       "      <td>0.0</td>\n",
       "      <td>0.0</td>\n",
       "      <td>0.0</td>\n",
       "      <td>0.0</td>\n",
       "      <td>0.0</td>\n",
       "      <td>0.0</td>\n",
       "      <td>0.0</td>\n",
       "      <td>0.0</td>\n",
       "      <td>0.0</td>\n",
       "      <td>...</td>\n",
       "      <td>0.0</td>\n",
       "      <td>0.0</td>\n",
       "      <td>0.009</td>\n",
       "      <td>0.0</td>\n",
       "      <td>0.0</td>\n",
       "      <td>1.009</td>\n",
       "      <td>0.0</td>\n",
       "      <td>0.0</td>\n",
       "      <td>0.0</td>\n",
       "      <td>0.0</td>\n",
       "    </tr>\n",
       "    <tr>\n",
       "      <th>10</th>\n",
       "      <td>0.0</td>\n",
       "      <td>0.0</td>\n",
       "      <td>0.0</td>\n",
       "      <td>0.0</td>\n",
       "      <td>0.0</td>\n",
       "      <td>0.0</td>\n",
       "      <td>0.0</td>\n",
       "      <td>0.0</td>\n",
       "      <td>0.0</td>\n",
       "      <td>0.0</td>\n",
       "      <td>...</td>\n",
       "      <td>0.0</td>\n",
       "      <td>0.0</td>\n",
       "      <td>0.010</td>\n",
       "      <td>0.0</td>\n",
       "      <td>0.0</td>\n",
       "      <td>1.010</td>\n",
       "      <td>0.0</td>\n",
       "      <td>0.0</td>\n",
       "      <td>0.0</td>\n",
       "      <td>0.0</td>\n",
       "    </tr>\n",
       "    <tr>\n",
       "      <th>11</th>\n",
       "      <td>0.0</td>\n",
       "      <td>0.0</td>\n",
       "      <td>0.0</td>\n",
       "      <td>0.0</td>\n",
       "      <td>0.0</td>\n",
       "      <td>0.0</td>\n",
       "      <td>0.0</td>\n",
       "      <td>0.0</td>\n",
       "      <td>0.0</td>\n",
       "      <td>0.0</td>\n",
       "      <td>...</td>\n",
       "      <td>0.0</td>\n",
       "      <td>0.0</td>\n",
       "      <td>0.011</td>\n",
       "      <td>0.0</td>\n",
       "      <td>0.0</td>\n",
       "      <td>1.011</td>\n",
       "      <td>0.0</td>\n",
       "      <td>0.0</td>\n",
       "      <td>0.0</td>\n",
       "      <td>0.0</td>\n",
       "    </tr>\n",
       "    <tr>\n",
       "      <th>12</th>\n",
       "      <td>0.0</td>\n",
       "      <td>0.0</td>\n",
       "      <td>0.0</td>\n",
       "      <td>0.0</td>\n",
       "      <td>0.0</td>\n",
       "      <td>0.0</td>\n",
       "      <td>0.0</td>\n",
       "      <td>0.0</td>\n",
       "      <td>0.0</td>\n",
       "      <td>0.0</td>\n",
       "      <td>...</td>\n",
       "      <td>0.0</td>\n",
       "      <td>0.0</td>\n",
       "      <td>0.012</td>\n",
       "      <td>0.0</td>\n",
       "      <td>0.0</td>\n",
       "      <td>1.012</td>\n",
       "      <td>0.0</td>\n",
       "      <td>0.0</td>\n",
       "      <td>0.0</td>\n",
       "      <td>0.0</td>\n",
       "    </tr>\n",
       "    <tr>\n",
       "      <th>13</th>\n",
       "      <td>0.0</td>\n",
       "      <td>0.0</td>\n",
       "      <td>0.0</td>\n",
       "      <td>0.0</td>\n",
       "      <td>0.0</td>\n",
       "      <td>0.0</td>\n",
       "      <td>0.0</td>\n",
       "      <td>0.0</td>\n",
       "      <td>0.0</td>\n",
       "      <td>0.0</td>\n",
       "      <td>...</td>\n",
       "      <td>0.0</td>\n",
       "      <td>0.0</td>\n",
       "      <td>0.013</td>\n",
       "      <td>0.0</td>\n",
       "      <td>0.0</td>\n",
       "      <td>1.013</td>\n",
       "      <td>0.0</td>\n",
       "      <td>0.0</td>\n",
       "      <td>0.0</td>\n",
       "      <td>0.0</td>\n",
       "    </tr>\n",
       "    <tr>\n",
       "      <th>14</th>\n",
       "      <td>0.0</td>\n",
       "      <td>0.0</td>\n",
       "      <td>0.0</td>\n",
       "      <td>0.0</td>\n",
       "      <td>0.0</td>\n",
       "      <td>0.0</td>\n",
       "      <td>0.0</td>\n",
       "      <td>0.0</td>\n",
       "      <td>0.0</td>\n",
       "      <td>0.0</td>\n",
       "      <td>...</td>\n",
       "      <td>0.0</td>\n",
       "      <td>0.0</td>\n",
       "      <td>0.014</td>\n",
       "      <td>0.0</td>\n",
       "      <td>0.0</td>\n",
       "      <td>1.014</td>\n",
       "      <td>0.0</td>\n",
       "      <td>0.0</td>\n",
       "      <td>0.0</td>\n",
       "      <td>0.0</td>\n",
       "    </tr>\n",
       "    <tr>\n",
       "      <th>15</th>\n",
       "      <td>0.0</td>\n",
       "      <td>0.0</td>\n",
       "      <td>0.0</td>\n",
       "      <td>0.0</td>\n",
       "      <td>0.0</td>\n",
       "      <td>0.0</td>\n",
       "      <td>0.0</td>\n",
       "      <td>0.0</td>\n",
       "      <td>0.0</td>\n",
       "      <td>0.0</td>\n",
       "      <td>...</td>\n",
       "      <td>0.0</td>\n",
       "      <td>0.0</td>\n",
       "      <td>0.015</td>\n",
       "      <td>0.0</td>\n",
       "      <td>0.0</td>\n",
       "      <td>1.015</td>\n",
       "      <td>0.0</td>\n",
       "      <td>0.0</td>\n",
       "      <td>0.0</td>\n",
       "      <td>0.0</td>\n",
       "    </tr>\n",
       "    <tr>\n",
       "      <th>16</th>\n",
       "      <td>0.0</td>\n",
       "      <td>0.0</td>\n",
       "      <td>0.0</td>\n",
       "      <td>0.0</td>\n",
       "      <td>0.0</td>\n",
       "      <td>0.0</td>\n",
       "      <td>0.0</td>\n",
       "      <td>0.0</td>\n",
       "      <td>0.0</td>\n",
       "      <td>0.0</td>\n",
       "      <td>...</td>\n",
       "      <td>0.0</td>\n",
       "      <td>0.0</td>\n",
       "      <td>0.016</td>\n",
       "      <td>0.0</td>\n",
       "      <td>0.0</td>\n",
       "      <td>1.016</td>\n",
       "      <td>0.0</td>\n",
       "      <td>0.0</td>\n",
       "      <td>0.0</td>\n",
       "      <td>0.0</td>\n",
       "    </tr>\n",
       "    <tr>\n",
       "      <th>17</th>\n",
       "      <td>0.0</td>\n",
       "      <td>0.0</td>\n",
       "      <td>0.0</td>\n",
       "      <td>0.0</td>\n",
       "      <td>0.0</td>\n",
       "      <td>0.0</td>\n",
       "      <td>0.0</td>\n",
       "      <td>0.0</td>\n",
       "      <td>0.0</td>\n",
       "      <td>0.0</td>\n",
       "      <td>...</td>\n",
       "      <td>0.0</td>\n",
       "      <td>0.0</td>\n",
       "      <td>0.017</td>\n",
       "      <td>0.0</td>\n",
       "      <td>0.0</td>\n",
       "      <td>1.017</td>\n",
       "      <td>0.0</td>\n",
       "      <td>0.0</td>\n",
       "      <td>0.0</td>\n",
       "      <td>0.0</td>\n",
       "    </tr>\n",
       "    <tr>\n",
       "      <th>18</th>\n",
       "      <td>0.0</td>\n",
       "      <td>0.0</td>\n",
       "      <td>0.0</td>\n",
       "      <td>0.0</td>\n",
       "      <td>0.0</td>\n",
       "      <td>0.0</td>\n",
       "      <td>0.0</td>\n",
       "      <td>0.0</td>\n",
       "      <td>0.0</td>\n",
       "      <td>0.0</td>\n",
       "      <td>...</td>\n",
       "      <td>0.0</td>\n",
       "      <td>0.0</td>\n",
       "      <td>0.018</td>\n",
       "      <td>0.0</td>\n",
       "      <td>0.0</td>\n",
       "      <td>1.018</td>\n",
       "      <td>0.0</td>\n",
       "      <td>0.0</td>\n",
       "      <td>0.0</td>\n",
       "      <td>0.0</td>\n",
       "    </tr>\n",
       "    <tr>\n",
       "      <th>19</th>\n",
       "      <td>0.0</td>\n",
       "      <td>0.0</td>\n",
       "      <td>0.0</td>\n",
       "      <td>0.0</td>\n",
       "      <td>0.0</td>\n",
       "      <td>0.0</td>\n",
       "      <td>0.0</td>\n",
       "      <td>0.0</td>\n",
       "      <td>0.0</td>\n",
       "      <td>0.0</td>\n",
       "      <td>...</td>\n",
       "      <td>0.0</td>\n",
       "      <td>0.0</td>\n",
       "      <td>0.019</td>\n",
       "      <td>0.0</td>\n",
       "      <td>0.0</td>\n",
       "      <td>1.019</td>\n",
       "      <td>0.0</td>\n",
       "      <td>0.0</td>\n",
       "      <td>0.0</td>\n",
       "      <td>0.0</td>\n",
       "    </tr>\n",
       "    <tr>\n",
       "      <th>20</th>\n",
       "      <td>0.0</td>\n",
       "      <td>0.0</td>\n",
       "      <td>0.0</td>\n",
       "      <td>0.0</td>\n",
       "      <td>0.0</td>\n",
       "      <td>0.0</td>\n",
       "      <td>0.0</td>\n",
       "      <td>0.0</td>\n",
       "      <td>0.0</td>\n",
       "      <td>0.0</td>\n",
       "      <td>...</td>\n",
       "      <td>0.0</td>\n",
       "      <td>0.0</td>\n",
       "      <td>0.020</td>\n",
       "      <td>0.0</td>\n",
       "      <td>0.0</td>\n",
       "      <td>1.020</td>\n",
       "      <td>0.0</td>\n",
       "      <td>0.0</td>\n",
       "      <td>0.0</td>\n",
       "      <td>0.0</td>\n",
       "    </tr>\n",
       "    <tr>\n",
       "      <th>21</th>\n",
       "      <td>0.0</td>\n",
       "      <td>0.0</td>\n",
       "      <td>0.0</td>\n",
       "      <td>0.0</td>\n",
       "      <td>0.0</td>\n",
       "      <td>0.0</td>\n",
       "      <td>0.0</td>\n",
       "      <td>0.0</td>\n",
       "      <td>0.0</td>\n",
       "      <td>0.0</td>\n",
       "      <td>...</td>\n",
       "      <td>0.0</td>\n",
       "      <td>0.0</td>\n",
       "      <td>0.021</td>\n",
       "      <td>0.0</td>\n",
       "      <td>0.0</td>\n",
       "      <td>1.021</td>\n",
       "      <td>0.0</td>\n",
       "      <td>0.0</td>\n",
       "      <td>0.0</td>\n",
       "      <td>0.0</td>\n",
       "    </tr>\n",
       "    <tr>\n",
       "      <th>22</th>\n",
       "      <td>0.0</td>\n",
       "      <td>0.0</td>\n",
       "      <td>0.0</td>\n",
       "      <td>0.0</td>\n",
       "      <td>0.0</td>\n",
       "      <td>0.0</td>\n",
       "      <td>0.0</td>\n",
       "      <td>0.0</td>\n",
       "      <td>0.0</td>\n",
       "      <td>0.0</td>\n",
       "      <td>...</td>\n",
       "      <td>0.0</td>\n",
       "      <td>0.0</td>\n",
       "      <td>0.022</td>\n",
       "      <td>0.0</td>\n",
       "      <td>0.0</td>\n",
       "      <td>1.022</td>\n",
       "      <td>0.0</td>\n",
       "      <td>0.0</td>\n",
       "      <td>0.0</td>\n",
       "      <td>0.0</td>\n",
       "    </tr>\n",
       "    <tr>\n",
       "      <th>23</th>\n",
       "      <td>0.0</td>\n",
       "      <td>0.0</td>\n",
       "      <td>0.0</td>\n",
       "      <td>0.0</td>\n",
       "      <td>0.0</td>\n",
       "      <td>0.0</td>\n",
       "      <td>0.0</td>\n",
       "      <td>0.0</td>\n",
       "      <td>0.0</td>\n",
       "      <td>0.0</td>\n",
       "      <td>...</td>\n",
       "      <td>0.0</td>\n",
       "      <td>0.0</td>\n",
       "      <td>0.023</td>\n",
       "      <td>0.0</td>\n",
       "      <td>0.0</td>\n",
       "      <td>1.023</td>\n",
       "      <td>0.0</td>\n",
       "      <td>0.0</td>\n",
       "      <td>0.0</td>\n",
       "      <td>0.0</td>\n",
       "    </tr>\n",
       "    <tr>\n",
       "      <th>24</th>\n",
       "      <td>0.0</td>\n",
       "      <td>0.0</td>\n",
       "      <td>0.0</td>\n",
       "      <td>0.0</td>\n",
       "      <td>0.0</td>\n",
       "      <td>0.0</td>\n",
       "      <td>0.0</td>\n",
       "      <td>0.0</td>\n",
       "      <td>0.0</td>\n",
       "      <td>0.0</td>\n",
       "      <td>...</td>\n",
       "      <td>0.0</td>\n",
       "      <td>0.0</td>\n",
       "      <td>0.024</td>\n",
       "      <td>0.0</td>\n",
       "      <td>0.0</td>\n",
       "      <td>1.024</td>\n",
       "      <td>0.0</td>\n",
       "      <td>0.0</td>\n",
       "      <td>0.0</td>\n",
       "      <td>0.0</td>\n",
       "    </tr>\n",
       "    <tr>\n",
       "      <th>25</th>\n",
       "      <td>0.0</td>\n",
       "      <td>0.0</td>\n",
       "      <td>0.0</td>\n",
       "      <td>0.0</td>\n",
       "      <td>0.0</td>\n",
       "      <td>0.0</td>\n",
       "      <td>0.0</td>\n",
       "      <td>0.0</td>\n",
       "      <td>0.0</td>\n",
       "      <td>0.0</td>\n",
       "      <td>...</td>\n",
       "      <td>0.0</td>\n",
       "      <td>0.0</td>\n",
       "      <td>0.025</td>\n",
       "      <td>0.0</td>\n",
       "      <td>0.0</td>\n",
       "      <td>1.025</td>\n",
       "      <td>0.0</td>\n",
       "      <td>0.0</td>\n",
       "      <td>0.0</td>\n",
       "      <td>0.0</td>\n",
       "    </tr>\n",
       "    <tr>\n",
       "      <th>26</th>\n",
       "      <td>0.0</td>\n",
       "      <td>0.0</td>\n",
       "      <td>0.0</td>\n",
       "      <td>0.0</td>\n",
       "      <td>0.0</td>\n",
       "      <td>0.0</td>\n",
       "      <td>0.0</td>\n",
       "      <td>0.0</td>\n",
       "      <td>0.0</td>\n",
       "      <td>0.0</td>\n",
       "      <td>...</td>\n",
       "      <td>0.0</td>\n",
       "      <td>0.0</td>\n",
       "      <td>0.026</td>\n",
       "      <td>0.0</td>\n",
       "      <td>0.0</td>\n",
       "      <td>1.026</td>\n",
       "      <td>0.0</td>\n",
       "      <td>0.0</td>\n",
       "      <td>0.0</td>\n",
       "      <td>0.0</td>\n",
       "    </tr>\n",
       "    <tr>\n",
       "      <th>27</th>\n",
       "      <td>0.0</td>\n",
       "      <td>0.0</td>\n",
       "      <td>0.0</td>\n",
       "      <td>0.0</td>\n",
       "      <td>0.0</td>\n",
       "      <td>0.0</td>\n",
       "      <td>0.0</td>\n",
       "      <td>0.0</td>\n",
       "      <td>0.0</td>\n",
       "      <td>0.0</td>\n",
       "      <td>...</td>\n",
       "      <td>0.0</td>\n",
       "      <td>0.0</td>\n",
       "      <td>0.027</td>\n",
       "      <td>0.0</td>\n",
       "      <td>0.0</td>\n",
       "      <td>1.027</td>\n",
       "      <td>0.0</td>\n",
       "      <td>0.0</td>\n",
       "      <td>0.0</td>\n",
       "      <td>0.0</td>\n",
       "    </tr>\n",
       "    <tr>\n",
       "      <th>28</th>\n",
       "      <td>0.0</td>\n",
       "      <td>0.0</td>\n",
       "      <td>0.0</td>\n",
       "      <td>0.0</td>\n",
       "      <td>0.0</td>\n",
       "      <td>0.0</td>\n",
       "      <td>0.0</td>\n",
       "      <td>0.0</td>\n",
       "      <td>0.0</td>\n",
       "      <td>0.0</td>\n",
       "      <td>...</td>\n",
       "      <td>0.0</td>\n",
       "      <td>0.0</td>\n",
       "      <td>0.028</td>\n",
       "      <td>0.0</td>\n",
       "      <td>0.0</td>\n",
       "      <td>1.028</td>\n",
       "      <td>0.0</td>\n",
       "      <td>0.0</td>\n",
       "      <td>0.0</td>\n",
       "      <td>0.0</td>\n",
       "    </tr>\n",
       "    <tr>\n",
       "      <th>29</th>\n",
       "      <td>0.0</td>\n",
       "      <td>0.0</td>\n",
       "      <td>0.0</td>\n",
       "      <td>0.0</td>\n",
       "      <td>0.0</td>\n",
       "      <td>0.0</td>\n",
       "      <td>0.0</td>\n",
       "      <td>0.0</td>\n",
       "      <td>0.0</td>\n",
       "      <td>0.0</td>\n",
       "      <td>...</td>\n",
       "      <td>0.0</td>\n",
       "      <td>0.0</td>\n",
       "      <td>0.029</td>\n",
       "      <td>0.0</td>\n",
       "      <td>0.0</td>\n",
       "      <td>1.029</td>\n",
       "      <td>0.0</td>\n",
       "      <td>0.0</td>\n",
       "      <td>0.0</td>\n",
       "      <td>0.0</td>\n",
       "    </tr>\n",
       "    <tr>\n",
       "      <th>...</th>\n",
       "      <td>...</td>\n",
       "      <td>...</td>\n",
       "      <td>...</td>\n",
       "      <td>...</td>\n",
       "      <td>...</td>\n",
       "      <td>...</td>\n",
       "      <td>...</td>\n",
       "      <td>...</td>\n",
       "      <td>...</td>\n",
       "      <td>...</td>\n",
       "      <td>...</td>\n",
       "      <td>...</td>\n",
       "      <td>...</td>\n",
       "      <td>...</td>\n",
       "      <td>...</td>\n",
       "      <td>...</td>\n",
       "      <td>...</td>\n",
       "      <td>...</td>\n",
       "      <td>...</td>\n",
       "      <td>...</td>\n",
       "      <td>...</td>\n",
       "    </tr>\n",
       "    <tr>\n",
       "      <th>1972</th>\n",
       "      <td>0.0</td>\n",
       "      <td>0.0</td>\n",
       "      <td>0.0</td>\n",
       "      <td>0.0</td>\n",
       "      <td>0.0</td>\n",
       "      <td>0.0</td>\n",
       "      <td>0.0</td>\n",
       "      <td>0.0</td>\n",
       "      <td>0.0</td>\n",
       "      <td>0.0</td>\n",
       "      <td>...</td>\n",
       "      <td>0.0</td>\n",
       "      <td>0.0</td>\n",
       "      <td>0.971</td>\n",
       "      <td>0.0</td>\n",
       "      <td>0.0</td>\n",
       "      <td>1.971</td>\n",
       "      <td>0.0</td>\n",
       "      <td>0.0</td>\n",
       "      <td>0.0</td>\n",
       "      <td>0.0</td>\n",
       "    </tr>\n",
       "    <tr>\n",
       "      <th>1973</th>\n",
       "      <td>0.0</td>\n",
       "      <td>0.0</td>\n",
       "      <td>0.0</td>\n",
       "      <td>0.0</td>\n",
       "      <td>0.0</td>\n",
       "      <td>0.0</td>\n",
       "      <td>0.0</td>\n",
       "      <td>0.0</td>\n",
       "      <td>0.0</td>\n",
       "      <td>0.0</td>\n",
       "      <td>...</td>\n",
       "      <td>0.0</td>\n",
       "      <td>0.0</td>\n",
       "      <td>0.972</td>\n",
       "      <td>0.0</td>\n",
       "      <td>0.0</td>\n",
       "      <td>1.972</td>\n",
       "      <td>0.0</td>\n",
       "      <td>0.0</td>\n",
       "      <td>0.0</td>\n",
       "      <td>0.0</td>\n",
       "    </tr>\n",
       "    <tr>\n",
       "      <th>1974</th>\n",
       "      <td>0.0</td>\n",
       "      <td>0.0</td>\n",
       "      <td>0.0</td>\n",
       "      <td>0.0</td>\n",
       "      <td>0.0</td>\n",
       "      <td>0.0</td>\n",
       "      <td>0.0</td>\n",
       "      <td>0.0</td>\n",
       "      <td>0.0</td>\n",
       "      <td>0.0</td>\n",
       "      <td>...</td>\n",
       "      <td>0.0</td>\n",
       "      <td>0.0</td>\n",
       "      <td>0.973</td>\n",
       "      <td>0.0</td>\n",
       "      <td>0.0</td>\n",
       "      <td>1.973</td>\n",
       "      <td>0.0</td>\n",
       "      <td>0.0</td>\n",
       "      <td>0.0</td>\n",
       "      <td>0.0</td>\n",
       "    </tr>\n",
       "    <tr>\n",
       "      <th>1975</th>\n",
       "      <td>0.0</td>\n",
       "      <td>0.0</td>\n",
       "      <td>0.0</td>\n",
       "      <td>0.0</td>\n",
       "      <td>0.0</td>\n",
       "      <td>0.0</td>\n",
       "      <td>0.0</td>\n",
       "      <td>0.0</td>\n",
       "      <td>0.0</td>\n",
       "      <td>0.0</td>\n",
       "      <td>...</td>\n",
       "      <td>0.0</td>\n",
       "      <td>0.0</td>\n",
       "      <td>0.974</td>\n",
       "      <td>0.0</td>\n",
       "      <td>0.0</td>\n",
       "      <td>1.974</td>\n",
       "      <td>0.0</td>\n",
       "      <td>0.0</td>\n",
       "      <td>0.0</td>\n",
       "      <td>0.0</td>\n",
       "    </tr>\n",
       "    <tr>\n",
       "      <th>1976</th>\n",
       "      <td>0.0</td>\n",
       "      <td>0.0</td>\n",
       "      <td>0.0</td>\n",
       "      <td>0.0</td>\n",
       "      <td>0.0</td>\n",
       "      <td>0.0</td>\n",
       "      <td>0.0</td>\n",
       "      <td>0.0</td>\n",
       "      <td>0.0</td>\n",
       "      <td>0.0</td>\n",
       "      <td>...</td>\n",
       "      <td>0.0</td>\n",
       "      <td>0.0</td>\n",
       "      <td>0.975</td>\n",
       "      <td>0.0</td>\n",
       "      <td>0.0</td>\n",
       "      <td>1.975</td>\n",
       "      <td>0.0</td>\n",
       "      <td>0.0</td>\n",
       "      <td>0.0</td>\n",
       "      <td>0.0</td>\n",
       "    </tr>\n",
       "    <tr>\n",
       "      <th>1977</th>\n",
       "      <td>0.0</td>\n",
       "      <td>0.0</td>\n",
       "      <td>0.0</td>\n",
       "      <td>0.0</td>\n",
       "      <td>0.0</td>\n",
       "      <td>0.0</td>\n",
       "      <td>0.0</td>\n",
       "      <td>0.0</td>\n",
       "      <td>0.0</td>\n",
       "      <td>0.0</td>\n",
       "      <td>...</td>\n",
       "      <td>0.0</td>\n",
       "      <td>0.0</td>\n",
       "      <td>0.976</td>\n",
       "      <td>0.0</td>\n",
       "      <td>0.0</td>\n",
       "      <td>1.976</td>\n",
       "      <td>0.0</td>\n",
       "      <td>0.0</td>\n",
       "      <td>0.0</td>\n",
       "      <td>0.0</td>\n",
       "    </tr>\n",
       "    <tr>\n",
       "      <th>1978</th>\n",
       "      <td>0.0</td>\n",
       "      <td>0.0</td>\n",
       "      <td>0.0</td>\n",
       "      <td>0.0</td>\n",
       "      <td>0.0</td>\n",
       "      <td>0.0</td>\n",
       "      <td>0.0</td>\n",
       "      <td>0.0</td>\n",
       "      <td>0.0</td>\n",
       "      <td>0.0</td>\n",
       "      <td>...</td>\n",
       "      <td>0.0</td>\n",
       "      <td>0.0</td>\n",
       "      <td>0.977</td>\n",
       "      <td>0.0</td>\n",
       "      <td>0.0</td>\n",
       "      <td>1.977</td>\n",
       "      <td>0.0</td>\n",
       "      <td>0.0</td>\n",
       "      <td>0.0</td>\n",
       "      <td>0.0</td>\n",
       "    </tr>\n",
       "    <tr>\n",
       "      <th>1979</th>\n",
       "      <td>0.0</td>\n",
       "      <td>0.0</td>\n",
       "      <td>0.0</td>\n",
       "      <td>0.0</td>\n",
       "      <td>0.0</td>\n",
       "      <td>0.0</td>\n",
       "      <td>0.0</td>\n",
       "      <td>0.0</td>\n",
       "      <td>0.0</td>\n",
       "      <td>0.0</td>\n",
       "      <td>...</td>\n",
       "      <td>0.0</td>\n",
       "      <td>0.0</td>\n",
       "      <td>0.978</td>\n",
       "      <td>0.0</td>\n",
       "      <td>0.0</td>\n",
       "      <td>1.978</td>\n",
       "      <td>0.0</td>\n",
       "      <td>0.0</td>\n",
       "      <td>0.0</td>\n",
       "      <td>0.0</td>\n",
       "    </tr>\n",
       "    <tr>\n",
       "      <th>1980</th>\n",
       "      <td>0.0</td>\n",
       "      <td>0.0</td>\n",
       "      <td>0.0</td>\n",
       "      <td>0.0</td>\n",
       "      <td>0.0</td>\n",
       "      <td>0.0</td>\n",
       "      <td>0.0</td>\n",
       "      <td>0.0</td>\n",
       "      <td>0.0</td>\n",
       "      <td>0.0</td>\n",
       "      <td>...</td>\n",
       "      <td>0.0</td>\n",
       "      <td>0.0</td>\n",
       "      <td>0.979</td>\n",
       "      <td>0.0</td>\n",
       "      <td>0.0</td>\n",
       "      <td>1.979</td>\n",
       "      <td>0.0</td>\n",
       "      <td>0.0</td>\n",
       "      <td>0.0</td>\n",
       "      <td>0.0</td>\n",
       "    </tr>\n",
       "    <tr>\n",
       "      <th>1981</th>\n",
       "      <td>0.0</td>\n",
       "      <td>0.0</td>\n",
       "      <td>0.0</td>\n",
       "      <td>0.0</td>\n",
       "      <td>0.0</td>\n",
       "      <td>0.0</td>\n",
       "      <td>0.0</td>\n",
       "      <td>0.0</td>\n",
       "      <td>0.0</td>\n",
       "      <td>0.0</td>\n",
       "      <td>...</td>\n",
       "      <td>0.0</td>\n",
       "      <td>0.0</td>\n",
       "      <td>0.980</td>\n",
       "      <td>0.0</td>\n",
       "      <td>0.0</td>\n",
       "      <td>1.980</td>\n",
       "      <td>0.0</td>\n",
       "      <td>0.0</td>\n",
       "      <td>0.0</td>\n",
       "      <td>0.0</td>\n",
       "    </tr>\n",
       "    <tr>\n",
       "      <th>1982</th>\n",
       "      <td>0.0</td>\n",
       "      <td>0.0</td>\n",
       "      <td>0.0</td>\n",
       "      <td>0.0</td>\n",
       "      <td>0.0</td>\n",
       "      <td>0.0</td>\n",
       "      <td>0.0</td>\n",
       "      <td>0.0</td>\n",
       "      <td>0.0</td>\n",
       "      <td>0.0</td>\n",
       "      <td>...</td>\n",
       "      <td>0.0</td>\n",
       "      <td>0.0</td>\n",
       "      <td>0.981</td>\n",
       "      <td>0.0</td>\n",
       "      <td>0.0</td>\n",
       "      <td>1.981</td>\n",
       "      <td>0.0</td>\n",
       "      <td>0.0</td>\n",
       "      <td>0.0</td>\n",
       "      <td>0.0</td>\n",
       "    </tr>\n",
       "    <tr>\n",
       "      <th>1983</th>\n",
       "      <td>0.0</td>\n",
       "      <td>0.0</td>\n",
       "      <td>0.0</td>\n",
       "      <td>0.0</td>\n",
       "      <td>0.0</td>\n",
       "      <td>0.0</td>\n",
       "      <td>0.0</td>\n",
       "      <td>0.0</td>\n",
       "      <td>0.0</td>\n",
       "      <td>0.0</td>\n",
       "      <td>...</td>\n",
       "      <td>0.0</td>\n",
       "      <td>0.0</td>\n",
       "      <td>0.982</td>\n",
       "      <td>0.0</td>\n",
       "      <td>0.0</td>\n",
       "      <td>1.982</td>\n",
       "      <td>0.0</td>\n",
       "      <td>0.0</td>\n",
       "      <td>0.0</td>\n",
       "      <td>0.0</td>\n",
       "    </tr>\n",
       "    <tr>\n",
       "      <th>1984</th>\n",
       "      <td>0.0</td>\n",
       "      <td>0.0</td>\n",
       "      <td>0.0</td>\n",
       "      <td>0.0</td>\n",
       "      <td>0.0</td>\n",
       "      <td>0.0</td>\n",
       "      <td>0.0</td>\n",
       "      <td>0.0</td>\n",
       "      <td>0.0</td>\n",
       "      <td>0.0</td>\n",
       "      <td>...</td>\n",
       "      <td>0.0</td>\n",
       "      <td>0.0</td>\n",
       "      <td>0.983</td>\n",
       "      <td>0.0</td>\n",
       "      <td>0.0</td>\n",
       "      <td>1.983</td>\n",
       "      <td>0.0</td>\n",
       "      <td>0.0</td>\n",
       "      <td>0.0</td>\n",
       "      <td>0.0</td>\n",
       "    </tr>\n",
       "    <tr>\n",
       "      <th>1985</th>\n",
       "      <td>0.0</td>\n",
       "      <td>0.0</td>\n",
       "      <td>0.0</td>\n",
       "      <td>0.0</td>\n",
       "      <td>0.0</td>\n",
       "      <td>0.0</td>\n",
       "      <td>0.0</td>\n",
       "      <td>0.0</td>\n",
       "      <td>0.0</td>\n",
       "      <td>0.0</td>\n",
       "      <td>...</td>\n",
       "      <td>0.0</td>\n",
       "      <td>0.0</td>\n",
       "      <td>0.984</td>\n",
       "      <td>0.0</td>\n",
       "      <td>0.0</td>\n",
       "      <td>1.984</td>\n",
       "      <td>0.0</td>\n",
       "      <td>0.0</td>\n",
       "      <td>0.0</td>\n",
       "      <td>0.0</td>\n",
       "    </tr>\n",
       "    <tr>\n",
       "      <th>1986</th>\n",
       "      <td>0.0</td>\n",
       "      <td>0.0</td>\n",
       "      <td>0.0</td>\n",
       "      <td>0.0</td>\n",
       "      <td>0.0</td>\n",
       "      <td>0.0</td>\n",
       "      <td>0.0</td>\n",
       "      <td>0.0</td>\n",
       "      <td>0.0</td>\n",
       "      <td>0.0</td>\n",
       "      <td>...</td>\n",
       "      <td>0.0</td>\n",
       "      <td>0.0</td>\n",
       "      <td>0.985</td>\n",
       "      <td>0.0</td>\n",
       "      <td>0.0</td>\n",
       "      <td>1.985</td>\n",
       "      <td>0.0</td>\n",
       "      <td>0.0</td>\n",
       "      <td>0.0</td>\n",
       "      <td>0.0</td>\n",
       "    </tr>\n",
       "    <tr>\n",
       "      <th>1987</th>\n",
       "      <td>0.0</td>\n",
       "      <td>0.0</td>\n",
       "      <td>0.0</td>\n",
       "      <td>0.0</td>\n",
       "      <td>0.0</td>\n",
       "      <td>0.0</td>\n",
       "      <td>0.0</td>\n",
       "      <td>0.0</td>\n",
       "      <td>0.0</td>\n",
       "      <td>0.0</td>\n",
       "      <td>...</td>\n",
       "      <td>0.0</td>\n",
       "      <td>0.0</td>\n",
       "      <td>0.986</td>\n",
       "      <td>0.0</td>\n",
       "      <td>0.0</td>\n",
       "      <td>1.986</td>\n",
       "      <td>0.0</td>\n",
       "      <td>0.0</td>\n",
       "      <td>0.0</td>\n",
       "      <td>0.0</td>\n",
       "    </tr>\n",
       "    <tr>\n",
       "      <th>1988</th>\n",
       "      <td>0.0</td>\n",
       "      <td>0.0</td>\n",
       "      <td>0.0</td>\n",
       "      <td>0.0</td>\n",
       "      <td>0.0</td>\n",
       "      <td>0.0</td>\n",
       "      <td>0.0</td>\n",
       "      <td>0.0</td>\n",
       "      <td>0.0</td>\n",
       "      <td>0.0</td>\n",
       "      <td>...</td>\n",
       "      <td>0.0</td>\n",
       "      <td>0.0</td>\n",
       "      <td>0.987</td>\n",
       "      <td>0.0</td>\n",
       "      <td>0.0</td>\n",
       "      <td>1.987</td>\n",
       "      <td>0.0</td>\n",
       "      <td>0.0</td>\n",
       "      <td>0.0</td>\n",
       "      <td>0.0</td>\n",
       "    </tr>\n",
       "    <tr>\n",
       "      <th>1989</th>\n",
       "      <td>0.0</td>\n",
       "      <td>0.0</td>\n",
       "      <td>0.0</td>\n",
       "      <td>0.0</td>\n",
       "      <td>0.0</td>\n",
       "      <td>0.0</td>\n",
       "      <td>0.0</td>\n",
       "      <td>0.0</td>\n",
       "      <td>0.0</td>\n",
       "      <td>0.0</td>\n",
       "      <td>...</td>\n",
       "      <td>0.0</td>\n",
       "      <td>0.0</td>\n",
       "      <td>0.988</td>\n",
       "      <td>0.0</td>\n",
       "      <td>0.0</td>\n",
       "      <td>1.988</td>\n",
       "      <td>0.0</td>\n",
       "      <td>0.0</td>\n",
       "      <td>0.0</td>\n",
       "      <td>0.0</td>\n",
       "    </tr>\n",
       "    <tr>\n",
       "      <th>1990</th>\n",
       "      <td>0.0</td>\n",
       "      <td>0.0</td>\n",
       "      <td>0.0</td>\n",
       "      <td>0.0</td>\n",
       "      <td>0.0</td>\n",
       "      <td>0.0</td>\n",
       "      <td>0.0</td>\n",
       "      <td>0.0</td>\n",
       "      <td>0.0</td>\n",
       "      <td>0.0</td>\n",
       "      <td>...</td>\n",
       "      <td>0.0</td>\n",
       "      <td>0.0</td>\n",
       "      <td>0.989</td>\n",
       "      <td>0.0</td>\n",
       "      <td>0.0</td>\n",
       "      <td>1.989</td>\n",
       "      <td>0.0</td>\n",
       "      <td>0.0</td>\n",
       "      <td>0.0</td>\n",
       "      <td>0.0</td>\n",
       "    </tr>\n",
       "    <tr>\n",
       "      <th>1991</th>\n",
       "      <td>0.0</td>\n",
       "      <td>0.0</td>\n",
       "      <td>0.0</td>\n",
       "      <td>0.0</td>\n",
       "      <td>0.0</td>\n",
       "      <td>0.0</td>\n",
       "      <td>0.0</td>\n",
       "      <td>0.0</td>\n",
       "      <td>0.0</td>\n",
       "      <td>0.0</td>\n",
       "      <td>...</td>\n",
       "      <td>0.0</td>\n",
       "      <td>0.0</td>\n",
       "      <td>0.990</td>\n",
       "      <td>0.0</td>\n",
       "      <td>0.0</td>\n",
       "      <td>1.990</td>\n",
       "      <td>0.0</td>\n",
       "      <td>0.0</td>\n",
       "      <td>0.0</td>\n",
       "      <td>0.0</td>\n",
       "    </tr>\n",
       "    <tr>\n",
       "      <th>1992</th>\n",
       "      <td>0.0</td>\n",
       "      <td>0.0</td>\n",
       "      <td>0.0</td>\n",
       "      <td>0.0</td>\n",
       "      <td>0.0</td>\n",
       "      <td>0.0</td>\n",
       "      <td>0.0</td>\n",
       "      <td>0.0</td>\n",
       "      <td>0.0</td>\n",
       "      <td>0.0</td>\n",
       "      <td>...</td>\n",
       "      <td>0.0</td>\n",
       "      <td>0.0</td>\n",
       "      <td>0.991</td>\n",
       "      <td>0.0</td>\n",
       "      <td>0.0</td>\n",
       "      <td>1.991</td>\n",
       "      <td>0.0</td>\n",
       "      <td>0.0</td>\n",
       "      <td>0.0</td>\n",
       "      <td>0.0</td>\n",
       "    </tr>\n",
       "    <tr>\n",
       "      <th>1993</th>\n",
       "      <td>0.0</td>\n",
       "      <td>0.0</td>\n",
       "      <td>0.0</td>\n",
       "      <td>0.0</td>\n",
       "      <td>0.0</td>\n",
       "      <td>0.0</td>\n",
       "      <td>0.0</td>\n",
       "      <td>0.0</td>\n",
       "      <td>0.0</td>\n",
       "      <td>0.0</td>\n",
       "      <td>...</td>\n",
       "      <td>0.0</td>\n",
       "      <td>0.0</td>\n",
       "      <td>0.992</td>\n",
       "      <td>0.0</td>\n",
       "      <td>0.0</td>\n",
       "      <td>1.992</td>\n",
       "      <td>0.0</td>\n",
       "      <td>0.0</td>\n",
       "      <td>0.0</td>\n",
       "      <td>0.0</td>\n",
       "    </tr>\n",
       "    <tr>\n",
       "      <th>1994</th>\n",
       "      <td>0.0</td>\n",
       "      <td>0.0</td>\n",
       "      <td>0.0</td>\n",
       "      <td>0.0</td>\n",
       "      <td>0.0</td>\n",
       "      <td>0.0</td>\n",
       "      <td>0.0</td>\n",
       "      <td>0.0</td>\n",
       "      <td>0.0</td>\n",
       "      <td>0.0</td>\n",
       "      <td>...</td>\n",
       "      <td>0.0</td>\n",
       "      <td>0.0</td>\n",
       "      <td>0.993</td>\n",
       "      <td>0.0</td>\n",
       "      <td>0.0</td>\n",
       "      <td>1.993</td>\n",
       "      <td>0.0</td>\n",
       "      <td>0.0</td>\n",
       "      <td>0.0</td>\n",
       "      <td>0.0</td>\n",
       "    </tr>\n",
       "    <tr>\n",
       "      <th>1995</th>\n",
       "      <td>0.0</td>\n",
       "      <td>0.0</td>\n",
       "      <td>0.0</td>\n",
       "      <td>0.0</td>\n",
       "      <td>0.0</td>\n",
       "      <td>0.0</td>\n",
       "      <td>0.0</td>\n",
       "      <td>0.0</td>\n",
       "      <td>0.0</td>\n",
       "      <td>0.0</td>\n",
       "      <td>...</td>\n",
       "      <td>0.0</td>\n",
       "      <td>0.0</td>\n",
       "      <td>0.994</td>\n",
       "      <td>0.0</td>\n",
       "      <td>0.0</td>\n",
       "      <td>1.994</td>\n",
       "      <td>0.0</td>\n",
       "      <td>0.0</td>\n",
       "      <td>0.0</td>\n",
       "      <td>0.0</td>\n",
       "    </tr>\n",
       "    <tr>\n",
       "      <th>1996</th>\n",
       "      <td>0.0</td>\n",
       "      <td>0.0</td>\n",
       "      <td>0.0</td>\n",
       "      <td>0.0</td>\n",
       "      <td>0.0</td>\n",
       "      <td>0.0</td>\n",
       "      <td>0.0</td>\n",
       "      <td>0.0</td>\n",
       "      <td>0.0</td>\n",
       "      <td>0.0</td>\n",
       "      <td>...</td>\n",
       "      <td>0.0</td>\n",
       "      <td>0.0</td>\n",
       "      <td>0.995</td>\n",
       "      <td>0.0</td>\n",
       "      <td>0.0</td>\n",
       "      <td>1.995</td>\n",
       "      <td>0.0</td>\n",
       "      <td>0.0</td>\n",
       "      <td>0.0</td>\n",
       "      <td>0.0</td>\n",
       "    </tr>\n",
       "    <tr>\n",
       "      <th>1997</th>\n",
       "      <td>0.0</td>\n",
       "      <td>0.0</td>\n",
       "      <td>0.0</td>\n",
       "      <td>0.0</td>\n",
       "      <td>0.0</td>\n",
       "      <td>0.0</td>\n",
       "      <td>0.0</td>\n",
       "      <td>0.0</td>\n",
       "      <td>0.0</td>\n",
       "      <td>0.0</td>\n",
       "      <td>...</td>\n",
       "      <td>0.0</td>\n",
       "      <td>0.0</td>\n",
       "      <td>0.996</td>\n",
       "      <td>0.0</td>\n",
       "      <td>0.0</td>\n",
       "      <td>1.996</td>\n",
       "      <td>0.0</td>\n",
       "      <td>0.0</td>\n",
       "      <td>0.0</td>\n",
       "      <td>0.0</td>\n",
       "    </tr>\n",
       "    <tr>\n",
       "      <th>1998</th>\n",
       "      <td>0.0</td>\n",
       "      <td>0.0</td>\n",
       "      <td>0.0</td>\n",
       "      <td>0.0</td>\n",
       "      <td>0.0</td>\n",
       "      <td>0.0</td>\n",
       "      <td>0.0</td>\n",
       "      <td>0.0</td>\n",
       "      <td>0.0</td>\n",
       "      <td>0.0</td>\n",
       "      <td>...</td>\n",
       "      <td>0.0</td>\n",
       "      <td>0.0</td>\n",
       "      <td>0.997</td>\n",
       "      <td>0.0</td>\n",
       "      <td>0.0</td>\n",
       "      <td>1.997</td>\n",
       "      <td>0.0</td>\n",
       "      <td>0.0</td>\n",
       "      <td>0.0</td>\n",
       "      <td>0.0</td>\n",
       "    </tr>\n",
       "    <tr>\n",
       "      <th>1999</th>\n",
       "      <td>0.0</td>\n",
       "      <td>0.0</td>\n",
       "      <td>0.0</td>\n",
       "      <td>0.0</td>\n",
       "      <td>0.0</td>\n",
       "      <td>0.0</td>\n",
       "      <td>0.0</td>\n",
       "      <td>0.0</td>\n",
       "      <td>0.0</td>\n",
       "      <td>0.0</td>\n",
       "      <td>...</td>\n",
       "      <td>0.0</td>\n",
       "      <td>0.0</td>\n",
       "      <td>0.998</td>\n",
       "      <td>0.0</td>\n",
       "      <td>0.0</td>\n",
       "      <td>1.998</td>\n",
       "      <td>0.0</td>\n",
       "      <td>0.0</td>\n",
       "      <td>0.0</td>\n",
       "      <td>0.0</td>\n",
       "    </tr>\n",
       "    <tr>\n",
       "      <th>2000</th>\n",
       "      <td>0.0</td>\n",
       "      <td>0.0</td>\n",
       "      <td>0.0</td>\n",
       "      <td>0.0</td>\n",
       "      <td>0.0</td>\n",
       "      <td>0.0</td>\n",
       "      <td>0.0</td>\n",
       "      <td>0.0</td>\n",
       "      <td>0.0</td>\n",
       "      <td>0.0</td>\n",
       "      <td>...</td>\n",
       "      <td>0.0</td>\n",
       "      <td>0.0</td>\n",
       "      <td>0.999</td>\n",
       "      <td>0.0</td>\n",
       "      <td>0.0</td>\n",
       "      <td>1.999</td>\n",
       "      <td>0.0</td>\n",
       "      <td>0.0</td>\n",
       "      <td>0.0</td>\n",
       "      <td>0.0</td>\n",
       "    </tr>\n",
       "    <tr>\n",
       "      <th>2001</th>\n",
       "      <td>0.0</td>\n",
       "      <td>0.0</td>\n",
       "      <td>0.0</td>\n",
       "      <td>0.0</td>\n",
       "      <td>0.0</td>\n",
       "      <td>0.0</td>\n",
       "      <td>0.0</td>\n",
       "      <td>0.0</td>\n",
       "      <td>0.0</td>\n",
       "      <td>0.0</td>\n",
       "      <td>...</td>\n",
       "      <td>0.0</td>\n",
       "      <td>0.0</td>\n",
       "      <td>1.000</td>\n",
       "      <td>0.0</td>\n",
       "      <td>0.0</td>\n",
       "      <td>2.000</td>\n",
       "      <td>0.0</td>\n",
       "      <td>0.0</td>\n",
       "      <td>0.0</td>\n",
       "      <td>0.0</td>\n",
       "    </tr>\n",
       "  </tbody>\n",
       "</table>\n",
       "<p>2002 rows × 57 columns</p>\n",
       "</div>"
      ],
      "text/plain": [
       "      Do-1   Yo   To   Zo   Po   So   to  D-1    T    Z ...    YR   ZR     XG  \\\n",
       "0      0.0  0.0  0.0  0.0  0.0  0.0  0.0  0.0  0.0  0.0 ...   0.0  0.0  0.000   \n",
       "1      0.0  0.0  0.0  0.0  0.0  0.0  0.0  0.0  0.0  0.0 ...   0.0  0.0  0.001   \n",
       "2      0.0  0.0  0.0  0.0  0.0  0.0  0.0  0.0  0.0  0.0 ...   0.0  0.0  0.002   \n",
       "3      0.0  0.0  0.0  0.0  0.0  0.0  0.0  0.0  0.0  0.0 ...   0.0  0.0  0.003   \n",
       "4      0.0  0.0  0.0  0.0  0.0  0.0  0.0  0.0  0.0  0.0 ...   0.0  0.0  0.004   \n",
       "5      0.0  0.0  0.0  0.0  0.0  0.0  0.0  0.0  0.0  0.0 ...   0.0  0.0  0.005   \n",
       "6      0.0  0.0  0.0  0.0  0.0  0.0  0.0  0.0  0.0  0.0 ...   0.0  0.0  0.006   \n",
       "7      0.0  0.0  0.0  0.0  0.0  0.0  0.0  0.0  0.0  0.0 ...   0.0  0.0  0.007   \n",
       "8      0.0  0.0  0.0  0.0  0.0  0.0  0.0  0.0  0.0  0.0 ...   0.0  0.0  0.008   \n",
       "9      0.0  0.0  0.0  0.0  0.0  0.0  0.0  0.0  0.0  0.0 ...   0.0  0.0  0.009   \n",
       "10     0.0  0.0  0.0  0.0  0.0  0.0  0.0  0.0  0.0  0.0 ...   0.0  0.0  0.010   \n",
       "11     0.0  0.0  0.0  0.0  0.0  0.0  0.0  0.0  0.0  0.0 ...   0.0  0.0  0.011   \n",
       "12     0.0  0.0  0.0  0.0  0.0  0.0  0.0  0.0  0.0  0.0 ...   0.0  0.0  0.012   \n",
       "13     0.0  0.0  0.0  0.0  0.0  0.0  0.0  0.0  0.0  0.0 ...   0.0  0.0  0.013   \n",
       "14     0.0  0.0  0.0  0.0  0.0  0.0  0.0  0.0  0.0  0.0 ...   0.0  0.0  0.014   \n",
       "15     0.0  0.0  0.0  0.0  0.0  0.0  0.0  0.0  0.0  0.0 ...   0.0  0.0  0.015   \n",
       "16     0.0  0.0  0.0  0.0  0.0  0.0  0.0  0.0  0.0  0.0 ...   0.0  0.0  0.016   \n",
       "17     0.0  0.0  0.0  0.0  0.0  0.0  0.0  0.0  0.0  0.0 ...   0.0  0.0  0.017   \n",
       "18     0.0  0.0  0.0  0.0  0.0  0.0  0.0  0.0  0.0  0.0 ...   0.0  0.0  0.018   \n",
       "19     0.0  0.0  0.0  0.0  0.0  0.0  0.0  0.0  0.0  0.0 ...   0.0  0.0  0.019   \n",
       "20     0.0  0.0  0.0  0.0  0.0  0.0  0.0  0.0  0.0  0.0 ...   0.0  0.0  0.020   \n",
       "21     0.0  0.0  0.0  0.0  0.0  0.0  0.0  0.0  0.0  0.0 ...   0.0  0.0  0.021   \n",
       "22     0.0  0.0  0.0  0.0  0.0  0.0  0.0  0.0  0.0  0.0 ...   0.0  0.0  0.022   \n",
       "23     0.0  0.0  0.0  0.0  0.0  0.0  0.0  0.0  0.0  0.0 ...   0.0  0.0  0.023   \n",
       "24     0.0  0.0  0.0  0.0  0.0  0.0  0.0  0.0  0.0  0.0 ...   0.0  0.0  0.024   \n",
       "25     0.0  0.0  0.0  0.0  0.0  0.0  0.0  0.0  0.0  0.0 ...   0.0  0.0  0.025   \n",
       "26     0.0  0.0  0.0  0.0  0.0  0.0  0.0  0.0  0.0  0.0 ...   0.0  0.0  0.026   \n",
       "27     0.0  0.0  0.0  0.0  0.0  0.0  0.0  0.0  0.0  0.0 ...   0.0  0.0  0.027   \n",
       "28     0.0  0.0  0.0  0.0  0.0  0.0  0.0  0.0  0.0  0.0 ...   0.0  0.0  0.028   \n",
       "29     0.0  0.0  0.0  0.0  0.0  0.0  0.0  0.0  0.0  0.0 ...   0.0  0.0  0.029   \n",
       "...    ...  ...  ...  ...  ...  ...  ...  ...  ...  ... ...   ...  ...    ...   \n",
       "1972   0.0  0.0  0.0  0.0  0.0  0.0  0.0  0.0  0.0  0.0 ...   0.0  0.0  0.971   \n",
       "1973   0.0  0.0  0.0  0.0  0.0  0.0  0.0  0.0  0.0  0.0 ...   0.0  0.0  0.972   \n",
       "1974   0.0  0.0  0.0  0.0  0.0  0.0  0.0  0.0  0.0  0.0 ...   0.0  0.0  0.973   \n",
       "1975   0.0  0.0  0.0  0.0  0.0  0.0  0.0  0.0  0.0  0.0 ...   0.0  0.0  0.974   \n",
       "1976   0.0  0.0  0.0  0.0  0.0  0.0  0.0  0.0  0.0  0.0 ...   0.0  0.0  0.975   \n",
       "1977   0.0  0.0  0.0  0.0  0.0  0.0  0.0  0.0  0.0  0.0 ...   0.0  0.0  0.976   \n",
       "1978   0.0  0.0  0.0  0.0  0.0  0.0  0.0  0.0  0.0  0.0 ...   0.0  0.0  0.977   \n",
       "1979   0.0  0.0  0.0  0.0  0.0  0.0  0.0  0.0  0.0  0.0 ...   0.0  0.0  0.978   \n",
       "1980   0.0  0.0  0.0  0.0  0.0  0.0  0.0  0.0  0.0  0.0 ...   0.0  0.0  0.979   \n",
       "1981   0.0  0.0  0.0  0.0  0.0  0.0  0.0  0.0  0.0  0.0 ...   0.0  0.0  0.980   \n",
       "1982   0.0  0.0  0.0  0.0  0.0  0.0  0.0  0.0  0.0  0.0 ...   0.0  0.0  0.981   \n",
       "1983   0.0  0.0  0.0  0.0  0.0  0.0  0.0  0.0  0.0  0.0 ...   0.0  0.0  0.982   \n",
       "1984   0.0  0.0  0.0  0.0  0.0  0.0  0.0  0.0  0.0  0.0 ...   0.0  0.0  0.983   \n",
       "1985   0.0  0.0  0.0  0.0  0.0  0.0  0.0  0.0  0.0  0.0 ...   0.0  0.0  0.984   \n",
       "1986   0.0  0.0  0.0  0.0  0.0  0.0  0.0  0.0  0.0  0.0 ...   0.0  0.0  0.985   \n",
       "1987   0.0  0.0  0.0  0.0  0.0  0.0  0.0  0.0  0.0  0.0 ...   0.0  0.0  0.986   \n",
       "1988   0.0  0.0  0.0  0.0  0.0  0.0  0.0  0.0  0.0  0.0 ...   0.0  0.0  0.987   \n",
       "1989   0.0  0.0  0.0  0.0  0.0  0.0  0.0  0.0  0.0  0.0 ...   0.0  0.0  0.988   \n",
       "1990   0.0  0.0  0.0  0.0  0.0  0.0  0.0  0.0  0.0  0.0 ...   0.0  0.0  0.989   \n",
       "1991   0.0  0.0  0.0  0.0  0.0  0.0  0.0  0.0  0.0  0.0 ...   0.0  0.0  0.990   \n",
       "1992   0.0  0.0  0.0  0.0  0.0  0.0  0.0  0.0  0.0  0.0 ...   0.0  0.0  0.991   \n",
       "1993   0.0  0.0  0.0  0.0  0.0  0.0  0.0  0.0  0.0  0.0 ...   0.0  0.0  0.992   \n",
       "1994   0.0  0.0  0.0  0.0  0.0  0.0  0.0  0.0  0.0  0.0 ...   0.0  0.0  0.993   \n",
       "1995   0.0  0.0  0.0  0.0  0.0  0.0  0.0  0.0  0.0  0.0 ...   0.0  0.0  0.994   \n",
       "1996   0.0  0.0  0.0  0.0  0.0  0.0  0.0  0.0  0.0  0.0 ...   0.0  0.0  0.995   \n",
       "1997   0.0  0.0  0.0  0.0  0.0  0.0  0.0  0.0  0.0  0.0 ...   0.0  0.0  0.996   \n",
       "1998   0.0  0.0  0.0  0.0  0.0  0.0  0.0  0.0  0.0  0.0 ...   0.0  0.0  0.997   \n",
       "1999   0.0  0.0  0.0  0.0  0.0  0.0  0.0  0.0  0.0  0.0 ...   0.0  0.0  0.998   \n",
       "2000   0.0  0.0  0.0  0.0  0.0  0.0  0.0  0.0  0.0  0.0 ...   0.0  0.0  0.999   \n",
       "2001   0.0  0.0  0.0  0.0  0.0  0.0  0.0  0.0  0.0  0.0 ...   0.0  0.0  1.000   \n",
       "\n",
       "       YG   ZG    XRG  YRG  ZRG   TG   PG  \n",
       "0     0.0  0.0  1.000  0.0  0.0  0.0  0.0  \n",
       "1     0.0  0.0  1.001  0.0  0.0  0.0  0.0  \n",
       "2     0.0  0.0  1.002  0.0  0.0  0.0  0.0  \n",
       "3     0.0  0.0  1.003  0.0  0.0  0.0  0.0  \n",
       "4     0.0  0.0  1.004  0.0  0.0  0.0  0.0  \n",
       "5     0.0  0.0  1.005  0.0  0.0  0.0  0.0  \n",
       "6     0.0  0.0  1.006  0.0  0.0  0.0  0.0  \n",
       "7     0.0  0.0  1.007  0.0  0.0  0.0  0.0  \n",
       "8     0.0  0.0  1.008  0.0  0.0  0.0  0.0  \n",
       "9     0.0  0.0  1.009  0.0  0.0  0.0  0.0  \n",
       "10    0.0  0.0  1.010  0.0  0.0  0.0  0.0  \n",
       "11    0.0  0.0  1.011  0.0  0.0  0.0  0.0  \n",
       "12    0.0  0.0  1.012  0.0  0.0  0.0  0.0  \n",
       "13    0.0  0.0  1.013  0.0  0.0  0.0  0.0  \n",
       "14    0.0  0.0  1.014  0.0  0.0  0.0  0.0  \n",
       "15    0.0  0.0  1.015  0.0  0.0  0.0  0.0  \n",
       "16    0.0  0.0  1.016  0.0  0.0  0.0  0.0  \n",
       "17    0.0  0.0  1.017  0.0  0.0  0.0  0.0  \n",
       "18    0.0  0.0  1.018  0.0  0.0  0.0  0.0  \n",
       "19    0.0  0.0  1.019  0.0  0.0  0.0  0.0  \n",
       "20    0.0  0.0  1.020  0.0  0.0  0.0  0.0  \n",
       "21    0.0  0.0  1.021  0.0  0.0  0.0  0.0  \n",
       "22    0.0  0.0  1.022  0.0  0.0  0.0  0.0  \n",
       "23    0.0  0.0  1.023  0.0  0.0  0.0  0.0  \n",
       "24    0.0  0.0  1.024  0.0  0.0  0.0  0.0  \n",
       "25    0.0  0.0  1.025  0.0  0.0  0.0  0.0  \n",
       "26    0.0  0.0  1.026  0.0  0.0  0.0  0.0  \n",
       "27    0.0  0.0  1.027  0.0  0.0  0.0  0.0  \n",
       "28    0.0  0.0  1.028  0.0  0.0  0.0  0.0  \n",
       "29    0.0  0.0  1.029  0.0  0.0  0.0  0.0  \n",
       "...   ...  ...    ...  ...  ...  ...  ...  \n",
       "1972  0.0  0.0  1.971  0.0  0.0  0.0  0.0  \n",
       "1973  0.0  0.0  1.972  0.0  0.0  0.0  0.0  \n",
       "1974  0.0  0.0  1.973  0.0  0.0  0.0  0.0  \n",
       "1975  0.0  0.0  1.974  0.0  0.0  0.0  0.0  \n",
       "1976  0.0  0.0  1.975  0.0  0.0  0.0  0.0  \n",
       "1977  0.0  0.0  1.976  0.0  0.0  0.0  0.0  \n",
       "1978  0.0  0.0  1.977  0.0  0.0  0.0  0.0  \n",
       "1979  0.0  0.0  1.978  0.0  0.0  0.0  0.0  \n",
       "1980  0.0  0.0  1.979  0.0  0.0  0.0  0.0  \n",
       "1981  0.0  0.0  1.980  0.0  0.0  0.0  0.0  \n",
       "1982  0.0  0.0  1.981  0.0  0.0  0.0  0.0  \n",
       "1983  0.0  0.0  1.982  0.0  0.0  0.0  0.0  \n",
       "1984  0.0  0.0  1.983  0.0  0.0  0.0  0.0  \n",
       "1985  0.0  0.0  1.984  0.0  0.0  0.0  0.0  \n",
       "1986  0.0  0.0  1.985  0.0  0.0  0.0  0.0  \n",
       "1987  0.0  0.0  1.986  0.0  0.0  0.0  0.0  \n",
       "1988  0.0  0.0  1.987  0.0  0.0  0.0  0.0  \n",
       "1989  0.0  0.0  1.988  0.0  0.0  0.0  0.0  \n",
       "1990  0.0  0.0  1.989  0.0  0.0  0.0  0.0  \n",
       "1991  0.0  0.0  1.990  0.0  0.0  0.0  0.0  \n",
       "1992  0.0  0.0  1.991  0.0  0.0  0.0  0.0  \n",
       "1993  0.0  0.0  1.992  0.0  0.0  0.0  0.0  \n",
       "1994  0.0  0.0  1.993  0.0  0.0  0.0  0.0  \n",
       "1995  0.0  0.0  1.994  0.0  0.0  0.0  0.0  \n",
       "1996  0.0  0.0  1.995  0.0  0.0  0.0  0.0  \n",
       "1997  0.0  0.0  1.996  0.0  0.0  0.0  0.0  \n",
       "1998  0.0  0.0  1.997  0.0  0.0  0.0  0.0  \n",
       "1999  0.0  0.0  1.998  0.0  0.0  0.0  0.0  \n",
       "2000  0.0  0.0  1.999  0.0  0.0  0.0  0.0  \n",
       "2001  0.0  0.0  2.000  0.0  0.0  0.0  0.0  \n",
       "\n",
       "[2002 rows x 57 columns]"
      ]
     },
     "execution_count": 12,
     "metadata": {},
     "output_type": "execute_result"
    }
   ],
   "source": [
    "zr.tracks"
   ]
  },
  {
   "cell_type": "markdown",
   "metadata": {},
   "source": [
    "The tracking results have been automatically extracted and collected in a nice look `pandas.DataFrame`.\n",
    "\n",
    "The other typicall \"results files\" of `zgoubi` can be read as well:"
   ]
  },
  {
   "cell_type": "code",
   "execution_count": 13,
   "metadata": {},
   "outputs": [
    {
     "name": "stderr",
     "output_type": "stream",
     "text": [
      "Unable to read and load the Zgoubi SRLOSS files required to collect the SRLOSS data.\n"
     ]
    },
    {
     "data": {
      "text/html": [
       "<div>\n",
       "<style scoped>\n",
       "    .dataframe tbody tr th:only-of-type {\n",
       "        vertical-align: middle;\n",
       "    }\n",
       "\n",
       "    .dataframe tbody tr th {\n",
       "        vertical-align: top;\n",
       "    }\n",
       "\n",
       "    .dataframe thead th {\n",
       "        text-align: right;\n",
       "    }\n",
       "</style>\n",
       "<table border=\"1\" class=\"dataframe\">\n",
       "  <thead>\n",
       "    <tr style=\"text-align: right;\">\n",
       "      <th></th>\n",
       "    </tr>\n",
       "  </thead>\n",
       "  <tbody>\n",
       "  </tbody>\n",
       "</table>\n",
       "</div>"
      ],
      "text/plain": [
       "Empty DataFrame\n",
       "Columns: []\n",
       "Index: []"
      ]
     },
     "execution_count": 13,
     "metadata": {},
     "output_type": "execute_result"
    }
   ],
   "source": [
    "zr.srloss"
   ]
  },
  {
   "cell_type": "code",
   "execution_count": 90,
   "metadata": {},
   "outputs": [
    {
     "name": "stderr",
     "output_type": "stream",
     "text": [
      "Unable to read and load the Zgoubi MATRIX files required to collect the matrix data.\n"
     ]
    }
   ],
   "source": [
    "zr.matrix"
   ]
  },
  {
   "cell_type": "code",
   "execution_count": 91,
   "metadata": {},
   "outputs": [
    {
     "name": "stderr",
     "output_type": "stream",
     "text": [
      "Unable to read and load the Zgoubi OPTICS files required to collect the matrix data.\n"
     ]
    }
   ],
   "source": [
    "zr.optics"
   ]
  },
  {
   "cell_type": "markdown",
   "metadata": {},
   "source": [
    "But of course we'll have to work a bit harder for that.\n",
    "\n",
    "Let's try to get some Twiss parameters.\n",
    "\n",
    "Back to the input.\n",
    "\n",
    "The line is a list (actually a `deque`) of commands. Let's see how we can manipulate it."
   ]
  },
  {
   "cell_type": "code",
   "execution_count": 14,
   "metadata": {},
   "outputs": [
    {
     "data": {
      "text/plain": [
       "6"
      ]
     },
     "execution_count": 14,
     "metadata": {},
     "output_type": "execute_result"
    }
   ],
   "source": [
    "len(zi)  # 6 commands at this point"
   ]
  },
  {
   "cell_type": "code",
   "execution_count": 15,
   "metadata": {},
   "outputs": [],
   "source": [
    "zi.line.append(Matrix())"
   ]
  },
  {
   "cell_type": "code",
   "execution_count": 16,
   "metadata": {},
   "outputs": [
    {
     "data": {
      "text/plain": [
       "FODO\n",
       "        'OBJET' BUNCH\n",
       "        5.891582002459e+03\n",
       "        5.01\n",
       "        1.000000000000e-03 1.000000000000e-03 1.000000000000e-03 1.000000000000e-03 1.000000000000e-03 1.000000000000e-03\n",
       "        0.000000000000e+00 0.000000000000e+00 0.000000000000e+00 0.000000000000e+00 0.000000000000e+00 1.000000000000e+00\n",
       "            0.000000000000e+00 1.000000000000e+00 0.000000000000e+00 1.000000000000e+00 0.000000000000e+00 1.000000000000e+00 0.000000000000e+00 0.000000000000e+00 0.000000000000e+00 0.000000000000e+00\n",
       "\n",
       "        'PARTICUL' PROTON\n",
       "        9.382720300000e+02 1.602176487000e-19 1.792847350500e+00 0.000000000000e+00 0.0\n",
       "        \n",
       "        \n",
       "        'QUADRUPO' QF\n",
       "        2\n",
       "        1.000000000000e+02 1.000000000000e+00 1.000000000000e+01\n",
       "        2.000000000000e+00 0.000000000000e+00\n",
       "        6 0.000000000000e+00 1.000000000000e+00 0.000000000000e+00 0.000000000000e+00 0.000000000000e+00 0.000000000000e+00\n",
       "        2.000000000000e+00 0.000000000000e+00\n",
       "        6 0.000000000000e+00 1.000000000000e+00 0.000000000000e+00 0.000000000000e+00 0.000000000000e+00 0.000000000000e+00\n",
       "        0.1\n",
       "        1 0.000000000000e+00 0.000000000000e+00 0.000000000000e+00\n",
       "        \n",
       "        \n",
       "        'DRIFT' bb013e20d3\n",
       "        1.000000000000e+02\n",
       "        \n",
       "        \n",
       "        'QUADRUPO' QD\n",
       "        2\n",
       "        1.000000000000e+02 1.000000000000e+00 -1.000000000000e+01\n",
       "        2.000000000000e+00 0.000000000000e+00\n",
       "        6 0.000000000000e+00 1.000000000000e+00 0.000000000000e+00 0.000000000000e+00 0.000000000000e+00 0.000000000000e+00\n",
       "        2.000000000000e+00 0.000000000000e+00\n",
       "        6 0.000000000000e+00 1.000000000000e+00 0.000000000000e+00 0.000000000000e+00 0.000000000000e+00 0.000000000000e+00\n",
       "        0.1\n",
       "        1 0.000000000000e+00 0.000000000000e+00 0.000000000000e+00\n",
       "        \n",
       "        \n",
       "        'DRIFT' cf4fb10ea8\n",
       "        1.000000000000e+02\n",
       "        \n",
       "        \n",
       "        'MATRIX' 7c31b4347f\n",
       "        1 11 PRINT\n",
       "        \n",
       "        'END' 3b349c356c \n",
       "        "
      ]
     },
     "execution_count": 16,
     "metadata": {},
     "output_type": "execute_result"
    }
   ],
   "source": [
    "zi.replace('BUNCH', Objet5('BUNCH', BORO=k.brho))"
   ]
  },
  {
   "cell_type": "markdown",
   "metadata": {},
   "source": [
    "This worked as expected. Let's run it again."
   ]
  },
  {
   "cell_type": "code",
   "execution_count": 17,
   "metadata": {},
   "outputs": [],
   "source": [
    "z.cleanup()\n",
    "zr = z(zi).collect()"
   ]
  },
  {
   "cell_type": "markdown",
   "metadata": {},
   "source": [
    "We would like to see if this worked, but without scrolling through the entire output..."
   ]
  },
  {
   "cell_type": "code",
   "execution_count": 18,
   "metadata": {},
   "outputs": [
    {
     "name": "stdout",
     "output_type": "stream",
     "text": [
      "      7  Keyword, label(s) :  MATRIX      7c31b4347f                                                                   IPASS= 1\n",
      "  Matrix coefficients are printed in  zgoubi.MATRIX.out.\n",
      "  Reference, before change of frame (part #     1)  : \n",
      "   0.00000000E+00   0.00000000E+00   0.00000000E+00   0.00000000E+00   0.00000000E+00   4.00000000E+02   1.51083367E-02\n",
      "           Frame for MATRIX calculation moved by :\n",
      "            XC =    0.000 cm , YC =    0.000 cm ,   A =  0.00000 deg  ( = 0.000000 rad )\n",
      "  Reference, after change of frame (part #     1)  : \n",
      "   0.00000000E+00   0.00000000E+00   0.00000000E+00   0.00000000E+00   0.00000000E+00   4.00000000E+02   1.51083367E-02\n",
      "  Reference particle (#     1), path length :   400.00000     cm  relative momentum :    1.00000    \n",
      "                  TRANSFER  MATRIX  ORDRE  1  (MKSA units)\n",
      "           581.175        -141.063         0.00000         0.00000         0.00000         0.00000    \n",
      "           467.632        -113.502         0.00000         0.00000         0.00000         0.00000    \n",
      "           0.00000         0.00000         354.148         85.9786         0.00000         0.00000    \n",
      "           0.00000         0.00000         467.644         113.539         0.00000         0.00000    \n",
      "           0.00000         0.00000         0.00000         0.00000         1.00000         0.00000    \n",
      "           0.00000         0.00000         0.00000         0.00000         0.00000         1.00000    \n",
      "          DetY-1 =      -0.3749027336,    DetZ-1 =       1.1258239627\n",
      "          R12=0 at   -1.243     m,        R34=0 at  -0.7573     m\n",
      "      First order symplectic conditions (expected values = 0) :\n",
      "        -0.3749         1.126         0.000         0.000         0.000         0.000    \n",
      "                TWISS  parameters,  periodicity  of   1  is  assumed \n",
      "                                   - UNCOUPLED -\n",
      "       Beam  matrix  (beta/-alpha/-alpha/gamma) and  periodic  dispersion  (MKSA units)\n",
      "           0.000000     0.000000     0.000000     0.000000     0.000000     0.000000\n",
      "           0.000000     0.000000     0.000000     0.000000     0.000000     0.000000\n",
      "           0.000000     0.000000     0.000000     0.000000     0.000000     0.000000\n",
      "           0.000000     0.000000     0.000000     0.000000     0.000000     0.000000\n",
      "           0.000000     0.000000     0.000000     0.000000     0.000000     0.000000\n",
      "           0.000000     0.000000     0.000000     0.000000     0.000000     0.000000\n",
      "                                   Betatron  tunes\n",
      "                    NU_Y = undefined           NU_Z = undefined      \n"
     ]
    }
   ],
   "source": [
    "print('\\n'.join(zi[Matrix][0].output[0][1]))"
   ]
  },
  {
   "cell_type": "code",
   "execution_count": 19,
   "metadata": {},
   "outputs": [
    {
     "data": {
      "text/html": [
       "<div>\n",
       "<style scoped>\n",
       "    .dataframe tbody tr th:only-of-type {\n",
       "        vertical-align: middle;\n",
       "    }\n",
       "\n",
       "    .dataframe tbody tr th {\n",
       "        vertical-align: top;\n",
       "    }\n",
       "\n",
       "    .dataframe thead th {\n",
       "        text-align: right;\n",
       "    }\n",
       "</style>\n",
       "<table border=\"1\" class=\"dataframe\">\n",
       "  <thead>\n",
       "    <tr style=\"text-align: right;\">\n",
       "      <th></th>\n",
       "      <th>R11</th>\n",
       "      <th>R12</th>\n",
       "      <th>R13</th>\n",
       "      <th>R14</th>\n",
       "      <th>R15</th>\n",
       "      <th>R16</th>\n",
       "      <th>R21</th>\n",
       "      <th>R22</th>\n",
       "      <th>R23</th>\n",
       "      <th>R24</th>\n",
       "      <th>...</th>\n",
       "      <th>QZ</th>\n",
       "      <th>XCE</th>\n",
       "      <th>YCE</th>\n",
       "      <th>ALE</th>\n",
       "      <th>ALPHA11</th>\n",
       "      <th>BETA11</th>\n",
       "      <th>GAMMA11</th>\n",
       "      <th>ALPHA22</th>\n",
       "      <th>BETA22</th>\n",
       "      <th>GAMMA22</th>\n",
       "    </tr>\n",
       "  </thead>\n",
       "  <tbody>\n",
       "    <tr>\n",
       "      <th>0</th>\n",
       "      <td>581.174611</td>\n",
       "      <td>-141.062577</td>\n",
       "      <td>0.0</td>\n",
       "      <td>0.0</td>\n",
       "      <td>0.0</td>\n",
       "      <td>0.0</td>\n",
       "      <td>467.63198</td>\n",
       "      <td>-113.502458</td>\n",
       "      <td>0.0</td>\n",
       "      <td>0.0</td>\n",
       "      <td>...</td>\n",
       "      <td>undefined</td>\n",
       "      <td>0.0</td>\n",
       "      <td>0.0</td>\n",
       "      <td>0.0</td>\n",
       "      <td>-0.0</td>\n",
       "      <td>0.0</td>\n",
       "      <td>inf</td>\n",
       "      <td>-0.0</td>\n",
       "      <td>0.0</td>\n",
       "      <td>inf</td>\n",
       "    </tr>\n",
       "  </tbody>\n",
       "</table>\n",
       "<p>1 rows × 66 columns</p>\n",
       "</div>"
      ],
      "text/plain": [
       "          R11         R12  R13  R14  R15  R16        R21         R22  R23  \\\n",
       "0  581.174611 -141.062577  0.0  0.0  0.0  0.0  467.63198 -113.502458  0.0   \n",
       "\n",
       "   R24   ...            QZ  XCE  YCE  ALE  ALPHA11  BETA11  GAMMA11  ALPHA22  \\\n",
       "0  0.0   ...     undefined  0.0  0.0  0.0     -0.0     0.0      inf     -0.0   \n",
       "\n",
       "   BETA22  GAMMA22  \n",
       "0     0.0      inf  \n",
       "\n",
       "[1 rows x 66 columns]"
      ]
     },
     "execution_count": 19,
     "metadata": {},
     "output_type": "execute_result"
    }
   ],
   "source": [
    "zr.matrix"
   ]
  },
  {
   "cell_type": "markdown",
   "metadata": {},
   "source": [
    "**Exercice**: go back and adapt the FODO example to obtain a stable solution."
   ]
  },
  {
   "cell_type": "markdown",
   "metadata": {},
   "source": [
    "### Visualization with Zgoubidoo"
   ]
  },
  {
   "cell_type": "markdown",
   "metadata": {},
   "source": [
    "Zgoubidoo offers default visualization to plot beamlines, tracking data, etc. Let's have a look."
   ]
  },
  {
   "cell_type": "code",
   "execution_count": 20,
   "metadata": {},
   "outputs": [
    {
     "ename": "ZgoubiInputException",
     "evalue": "The input must be surveyed explicitely before plotting.",
     "output_type": "error",
     "traceback": [
      "\u001b[0;31m---------------------------------------------------------------------------\u001b[0m",
      "\u001b[0;31mZgoubiInputException\u001b[0m                      Traceback (most recent call last)",
      "\u001b[0;32m<ipython-input-20-0756df44ff73>\u001b[0m in \u001b[0;36m<module>\u001b[0;34m\u001b[0m\n\u001b[0;32m----> 1\u001b[0;31m \u001b[0mzi\u001b[0m\u001b[0;34m.\u001b[0m\u001b[0mplot\u001b[0m\u001b[0;34m(\u001b[0m\u001b[0;34m)\u001b[0m\u001b[0;34m\u001b[0m\u001b[0;34m\u001b[0m\u001b[0m\n\u001b[0m",
      "\u001b[0;32m~/reps/zgoubidoo/zgoubidoo/input.py\u001b[0m in \u001b[0;36mplot\u001b[0;34m(self, ax, tracks, artist, start, stop, with_frames, with_elements, with_apertures, set_equal_aspect)\u001b[0m\n\u001b[1;32m    754\u001b[0m         \"\"\"\n\u001b[1;32m    755\u001b[0m         \u001b[0;32mif\u001b[0m \u001b[0mself\u001b[0m\u001b[0;34m.\u001b[0m\u001b[0m_reference_frame\u001b[0m \u001b[0;32mis\u001b[0m \u001b[0;32mNone\u001b[0m\u001b[0;34m:\u001b[0m\u001b[0;34m\u001b[0m\u001b[0;34m\u001b[0m\u001b[0m\n\u001b[0;32m--> 756\u001b[0;31m             \u001b[0;32mraise\u001b[0m \u001b[0mZgoubiInputException\u001b[0m\u001b[0;34m(\u001b[0m\u001b[0;34m\"The input must be surveyed explicitely before plotting.\"\u001b[0m\u001b[0;34m)\u001b[0m\u001b[0;34m\u001b[0m\u001b[0;34m\u001b[0m\u001b[0m\n\u001b[0m\u001b[1;32m    757\u001b[0m         \u001b[0;32mif\u001b[0m \u001b[0martist\u001b[0m \u001b[0;32mis\u001b[0m \u001b[0;32mNone\u001b[0m\u001b[0;34m:\u001b[0m\u001b[0;34m\u001b[0m\u001b[0;34m\u001b[0m\u001b[0m\n\u001b[1;32m    758\u001b[0m             \u001b[0martist\u001b[0m \u001b[0;34m=\u001b[0m \u001b[0mzgoubidoo\u001b[0m\u001b[0;34m.\u001b[0m\u001b[0mvis\u001b[0m\u001b[0;34m.\u001b[0m\u001b[0mZgoubiMpl\u001b[0m\u001b[0;34m(\u001b[0m\u001b[0max\u001b[0m\u001b[0;34m=\u001b[0m\u001b[0max\u001b[0m\u001b[0;34m,\u001b[0m \u001b[0mwith_frames\u001b[0m\u001b[0;34m=\u001b[0m\u001b[0mwith_frames\u001b[0m\u001b[0;34m)\u001b[0m\u001b[0;34m\u001b[0m\u001b[0;34m\u001b[0m\u001b[0m\n",
      "\u001b[0;31mZgoubiInputException\u001b[0m: The input must be surveyed explicitely before plotting."
     ]
    }
   ],
   "source": [
    "zi.plot()"
   ]
  },
  {
   "cell_type": "markdown",
   "metadata": {},
   "source": [
    "OK... what is this \"survey\" thing?\n",
    "\n",
    "All elements of a Zgoubidoo beamline are positionned with respect to a given coordinates frame. The survey operation consists in associating a global reference frame with the beamline."
   ]
  },
  {
   "cell_type": "code",
   "execution_count": 30,
   "metadata": {},
   "outputs": [],
   "source": [
    "zi.survey()"
   ]
  },
  {
   "cell_type": "code",
   "execution_count": 22,
   "metadata": {},
   "outputs": [
    {
     "data": {
      "text/html": [
       "2.0 meter"
      ],
      "text/latex": [
       "$2.0\\ \\mathrm{meter}$"
      ],
      "text/plain": [
       "<Quantity(2.0, 'meter')>"
      ]
     },
     "execution_count": 22,
     "metadata": {},
     "output_type": "execute_result"
    }
   ],
   "source": [
    "zi.QD.entry.x"
   ]
  },
  {
   "cell_type": "markdown",
   "metadata": {},
   "source": [
    "Let's make some nice plots..."
   ]
  },
  {
   "cell_type": "code",
   "execution_count": 39,
   "metadata": {},
   "outputs": [
    {
     "data": {
      "text/plain": [
       "<zgoubidoo.vis.matplotlib.ZgoubiMpl at 0x11db82208>"
      ]
     },
     "execution_count": 39,
     "metadata": {},
     "output_type": "execute_result"
    },
    {
     "data": {
      "image/png": "[encoded data removed]",
      "text/plain": [
       "<Figure size 864x576 with 3 Axes>"
      ]
     },
     "metadata": {
      "needs_background": "light"
     },
     "output_type": "display_data"
    }
   ],
   "source": [
    "artist = zgoubidoo.vis.ZgoubiMpl()\n",
    "zgoubidoo.vis.cartouche(line=zi, artist=artist)\n",
    "zi.plot(ax=artist.ax, tracks=zr.tracks)"
   ]
  },
  {
   "cell_type": "markdown",
   "metadata": {},
   "source": [
    "Let's modify the input to improve the plotting. The following example will:\n",
    "\n",
    " - use the `FakeDrift` command to force the continuous visualization of the tracks;\n",
    " - illustrate how to add more elements to the input;\n",
    " - illustrate how one can misalign elements."
   ]
  },
  {
   "cell_type": "code",
   "execution_count": 61,
   "metadata": {},
   "outputs": [
    {
     "data": {
      "text/plain": [
       "<zgoubidoo.vis.matplotlib.ZgoubiMpl at 0x12283df60>"
      ]
     },
     "execution_count": 61,
     "metadata": {},
     "output_type": "execute_result"
    },
    {
     "data": {
      "image/png": "[encoded data removed]",
      "text/plain": [
       "<Figure size 864x576 with 3 Axes>"
      ]
     },
     "metadata": {
      "needs_background": "light"
     },
     "output_type": "display_data"
    }
   ],
   "source": [
    "qf = Quadrupole('QF', XL=1*_.m, B0=0.1 * _.tesla, ALE=5*_.degree, KPOS=1)\n",
    "qd = Quadrupole('QD', XL=1*_.m, B0=-0.05 * _.tesla, YCE=10*_.cm, KPOS=2)\n",
    "\n",
    "zi = zgoubidoo.Input(name='FODO', line=[\n",
    "    Objet2('BUNCH', BORO=k.brho),\n",
    "    Proton(),\n",
    "    qf,\n",
    "    FakeDrift(XL=1 * _.m),  # FakeDrift is actually a MULTIPOLE with a very small but non zero B0 field, forcing zgoubi to track\n",
    "    qd,\n",
    "    FakeDrift(XL=1 * _.m),  # FakeDrift is actually a MULTIPOLE with a very small but non zero B0 field, forcing zgoubi to track\n",
    "    Multipole(XL=1 * _.m, B1=5 * _.kilogauss),\n",
    "])\n",
    "zi.survey()\n",
    "zi.XPAS = 0.01 * _.m  # Note that the parameters of all the elements in the input can be set with a single command\n",
    "\n",
    "z = zgoubidoo.Zgoubi()\n",
    "zr = z(zi).collect()\n",
    "\n",
    "artist = zgoubidoo.vis.ZgoubiMpl()\n",
    "zgoubidoo.vis.cartouche(line=zi, artist=artist)\n",
    "zi.plot(ax=artist.ax, tracks=zr.tracks)"
   ]
  }
 ],
 "metadata": {
  "kernelspec": {
   "display_name": "Python 3.7",
   "language": "python",
   "name": "python3"
  },
  "language_info": {
   "codemirror_mode": {
    "name": "ipython",
    "version": 3
   },
   "file_extension": ".py",
   "mimetype": "text/x-python",
   "name": "python",
   "nbconvert_exporter": "python",
   "pygments_lexer": "ipython3",
   "version": "3.7.3"
  }
 },
 "nbformat": 4,
 "nbformat_minor": 2
}
