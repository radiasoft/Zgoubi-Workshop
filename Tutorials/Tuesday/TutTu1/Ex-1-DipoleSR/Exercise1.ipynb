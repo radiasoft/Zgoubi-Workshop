{
 "cells": [
  {
   "cell_type": "markdown",
   "metadata": {},
   "source": [
    "# Synchrotron radiation in a dipole"
   ]
  },
  {
   "cell_type": "markdown",
   "metadata": {},
   "source": [
    "This exercise will use Zgoubi to track electrons through a dipole magnet"
   ]
  },
  {
   "cell_type": "code",
   "execution_count": null,
   "metadata": {},
   "outputs": [],
   "source": [
    "import math\n",
    "En = 18 #energy in GeV\n",
    "B = 2 #Magnetic field in Tesla\n",
    "L=2.5 #length of magnet in meters\n",
    "stepsize = 0.01 #in meters\n",
    "\n",
    "hbar=1.0545718e-34 #reduced Planck's constant\n",
    "charge_electron=1.60217662e-19 #charge of electron in Coulombs\n",
    "class_rad = 2.81794e-15 #classical radius of electron in m\n",
    "\n",
    "Brho=3.33 *En\n",
    "rho = Brho/B\n",
    "print(Brho,rho)\n",
    "\n",
    "lam=((20*charge_electron*class_rad)/(8*hbar*math.sqrt(3)))*Brho*stepsize/rho\n",
    "print(lam)"
   ]
  }
 ],
 "metadata": {
  "kernelspec": {
   "display_name": "Python 2",
   "language": "python",
   "name": "py2"
  },
  "language_info": {
   "codemirror_mode": {
    "name": "ipython",
    "version": 2
   },
   "file_extension": ".py",
   "mimetype": "text/x-python",
   "name": "python",
   "nbconvert_exporter": "python",
   "pygments_lexer": "ipython2",
   "version": "2.7.16"
  }
 },
 "nbformat": 4,
 "nbformat_minor": 4
}
