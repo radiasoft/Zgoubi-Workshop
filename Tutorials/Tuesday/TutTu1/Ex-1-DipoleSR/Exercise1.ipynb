{
 "cells": [
  {
   "cell_type": "markdown",
   "metadata": {},
   "source": [
    "# Synchrotron radiation in a dipole"
   ]
  },
  {
   "cell_type": "markdown",
   "metadata": {},
   "source": [
    "This exercise will use Zgoubi to track electrons through a dipole magnet"
   ]
  },
  {
   "cell_type": "markdown",
   "metadata": {},
   "source": [
    "## Exercise 1a : SR results in .res file"
   ]
  },
  {
   "cell_type": "code",
   "execution_count": 5,
   "metadata": {},
   "outputs": [
    {
     "name": "stdout",
     "output_type": "stream",
     "text": [
      "(2.405944539536251, 59.94, 24.913292478285268)\n",
      "36.4247899177\n"
     ]
    }
   ],
   "source": [
    "import math\n",
    "En = 18 #energy in GeV\n",
    "B = 0.4007133486721675049*60.041537111472856/10.0 #Magnetic field in Tesla\n",
    "L=2.45 #length of magnet in meters\n",
    "stepsize = 2.45 #in meters\n",
    "\n",
    "hbar=1.0545718e-34 #reduced Planck's constant\n",
    "charge_electron=1.60217662e-19 #charge of electron in Coulombs\n",
    "class_rad = 2.81794e-15 #classical radius of electron in m\n",
    "\n",
    "Brho=3.33 *En\n",
    "rho = Brho/B\n",
    "print(B,Brho,rho)\n",
    "\n",
    "lam=((20*charge_electron*class_rad)/(8*hbar*math.sqrt(3)))*Brho*stepsize/rho\n",
    "print(lam)"
   ]
  },
  {
   "cell_type": "markdown",
   "metadata": {},
   "source": [
    "# Exercise 1b : SR results in zgoubi.SRLOSS.out file"
   ]
  },
  {
   "cell_type": "code",
   "execution_count": null,
   "metadata": {},
   "outputs": [],
   "source": []
  },
  {
   "cell_type": "code",
   "execution_count": 9,
   "metadata": {},
   "outputs": [
    {
     "name": "stdout",
     "output_type": "stream",
     "text": [
      "/home/vagrant/jupyter/Zgoubi-Workshop/Tutorials/Tuesday/TutTu1/Ex-1-DipoleSR\n"
     ]
    },
    {
     "data": {
      "image/png": "[encoded data removed]",
      "text/plain": [
       "<Figure size 360x216 with 1 Axes>"
      ]
     },
     "metadata": {},
     "output_type": "display_data"
    }
   ],
   "source": [
    "## %matplotlib inline\n",
    "\n",
    "import numpy as np\n",
    "import matplotlib.pyplot as plt\n",
    "import os\n",
    "FL=os.getcwd()\n",
    "print FL\n",
    "turn,emi3,xpm3,dE,sigE,theo_dEav,Eav_phot,Erms_phot=np.loadtxt('%s/%s'%(FL,'zgoubi.SRLOSS.Out'),skiprows=5,usecols=(4,27,31,35,36,37,38,39),unpack=True)\n",
    "plt.figure(figsize=(5,3))\n",
    "plt.plot(turn,xpm3,label='momentum')\n",
    "#plt.ylim([1.78e4,1.8e4])\n",
    "#plt.xlim([2,np.max(turn)])\n",
    "plt.legend()\n",
    "plt.ylabel(r'$P$')\n",
    "plt.xlabel(r'$turn$')\n",
    "plt.tight_layout()\n",
    "#plt.savefig('P.png')\n",
    "plt.show()"
   ]
  },
  {
   "cell_type": "code",
   "execution_count": null,
   "metadata": {},
   "outputs": [],
   "source": [
    "## Plotting more files: note that you must generate these files yourself!\n",
    "turn1,emi31,xpm31,dE1,sigE1,theo_dEav1,Eav_phot1,Erms_phot1=np.loadtxt('%s/%s'%(FL,'zgoubi_100p_s123456_ss1cm.SRLOSS.Out'),skiprows=5,usecols=(4,27,31,35,36,37,38,39),unpack=True)\n",
    "turn2,emi32,xpm32,dE2,sigE2,theo_dEav2,Eav_phot2,Erms_phot2=np.loadtxt('%s/%s'%(FL,'zgoubi_3000p_s123456_ss1cm.SRLOSS.Out'),skiprows=5,usecols=(4,27,31,35,36,37,38,39),unpack=True)\n",
    "turn3,emi33,xpm33,dE3,sigE3,theo_dEav3,Eav_phot3,Erms_phot3=np.loadtxt('%s/%s'%(FL,'zgoubi_6000p_s123456_ss1cm.SRLOSS.Out'),skiprows=5,usecols=(4,27,31,35,36,37,38,39),unpack=True)\n",
    "\n",
    "plt.figure(figsize=(5,3))\n",
    "plt.plot(turn1,emi31,label=r'$100p,s123456,ss1m$')\n",
    "plt.plot(turn2,emi32,label=r'$3000p,s123456,ss1m$')\n",
    "plt.plot(turn3,emi33,label=r'$6000p,s123456,ss1m$')\n",
    "plt.ylim([0,6e-4])\n",
    "plt.xlim([2,np.max(turn1)])\n",
    "plt.legend()\n",
    "plt.ylabel(r'$Log_Emi$')\n",
    "plt.xlabel(r'$turn$')\n",
    "plt.tight_layout()\n",
    "#plt.savefig('LongEmi.png')\n",
    "plt.show()\n",
    "\n",
    "plt.figure(figsize=(5,3))\n",
    "plt.plot(turn1,xpm31,label=r'$100p,s123456,ss1m$')\n",
    "plt.plot(turn2,xpm32,label=r'$3000p,s123456,ss1m$')\n",
    "plt.plot(turn3,xpm33,label=r'$6000p,s123456,ss1m$')\n",
    "plt.ylim([1.78e4,1.8e4])\n",
    "plt.xlim([2,np.max(turn1)])\n",
    "plt.legend()\n",
    "plt.ylabel(r'$P$')\n",
    "plt.xlabel(r'$turn$')\n",
    "plt.tight_layout()\n",
    "#plt.savefig('P.png')\n",
    "plt.show()\n",
    "\n",
    "plt.figure(figsize=(5,3))\n",
    "plt.plot(turn1,dE1,label=r'$100p,s123456,ss1m$')\n",
    "plt.plot(turn2,dE2,label=r'$3000p,s123456,ss1m$')\n",
    "plt.plot(turn3,dE3,label=r'$6000p,s123456,ss1m$')\n",
    "plt.ylim([-6.5,-5])\n",
    "plt.xlim([2,np.max(turn)])\n",
    "plt.legend()\n",
    "plt.ylabel(r'$dE$')\n",
    "plt.xlabel(r'$turn$')\n",
    "plt.tight_layout()\n",
    "#plt.savefig('dE.png')\n",
    "plt.show()\n",
    "\n",
    "plt.figure(figsize=(5,3))\n",
    "plt.plot(turn1,sigE1,label=r'$100p,s123456,ss1m$')\n",
    "plt.plot(turn2,sigE2,label=r'$3000p,s123456,ss1m$')\n",
    "plt.plot(turn3,sigE3,label=r'$6000p,s123456,ss1m$')\n",
    "plt.ylim([0,2])\n",
    "plt.xlim([2,np.max(turn)])\n",
    "plt.legend()\n",
    "plt.ylabel(r'$sigE$')\n",
    "plt.xlabel(r'$turn$')\n",
    "plt.tight_layout()\n",
    "#plt.savefig('sigE.png')\n",
    "plt.show()"
   ]
  },
  {
   "cell_type": "code",
   "execution_count": null,
   "metadata": {},
   "outputs": [],
   "source": [
    "## %matplotlib inline\n",
    "\n",
    "import numpy as np\n",
    "import matplotlib.pyplot as plt\n",
    "import os\n",
    "FL=os.getcwd()\n",
    "print FL\n",
    "\n",
    "turn1,emi31,xpm31,dE1,sigE1,theo_dEav1,Eav_phot1,Erms_phot1=np.loadtxt('%s/%s'%(FL,'zgoubi_3000p_s123456_ss1cm.SRLOSS.Out'),skiprows=5,usecols=(4,27,31,35,36,37,38,39),unpack=True)\n",
    "turn2,emi32,xpm32,dE2,sigE2,theo_dEav2,Eav_phot2,Erms_phot2=np.loadtxt('%s/%s'%(FL,'zgoubi_3000p_s345678_ss1cm.SRLOSS.Out'),skiprows=5,usecols=(4,27,31,35,36,37,38,39),unpack=True)\n",
    "turn3,emi33,xpm33,dE3,sigE3,theo_dEav3,Eav_phot3,Erms_phot3=np.loadtxt('%s/%s'%(FL,'zgoubi_3000p_s567890_ss1cm.SRLOSS.Out'),skiprows=5,usecols=(4,27,31,35,36,37,38,39),unpack=True)\n",
    "\n",
    "plt.figure(figsize=(5,3))\n",
    "plt.plot(turn1,emi31,label=r'$3000p,s123456,ss1m$')\n",
    "plt.plot(turn2,emi32,label=r'$3000p,s345678,ss1m$')\n",
    "plt.plot(turn3,emi33,label=r'$3000p,s567890,ss1m$')\n",
    "plt.ylim([0,6e-4])\n",
    "plt.xlim([2,np.max(turn1)])\n",
    "plt.legend()\n",
    "plt.ylabel(r'$Log_Emi$')\n",
    "plt.xlabel(r'$turn$')\n",
    "plt.tight_layout()\n",
    "#plt.savefig('LongEmi.png')\n",
    "plt.show()\n",
    "\n",
    "plt.figure(figsize=(5,3))\n",
    "plt.plot(turn1,xpm31,label=r'$3000p,s123456,ss1m$')\n",
    "plt.plot(turn2,xpm32,label=r'$3000p,s345678,ss1m$')\n",
    "plt.plot(turn3,xpm33,label=r'$3000p,s567890,ss1m$')\n",
    "plt.ylim([1.78e4,1.8e4])\n",
    "plt.xlim([2,np.max(turn1)])\n",
    "plt.legend()\n",
    "plt.ylabel(r'$P$')\n",
    "plt.xlabel(r'$turn$')\n",
    "plt.tight_layout()\n",
    "#plt.savefig('P.png')\n",
    "plt.show()\n",
    "\n",
    "plt.figure(figsize=(5,3))\n",
    "plt.plot(turn1,dE1,label=r'$3000p,s123456,ss1m$')\n",
    "plt.plot(turn2,dE2,label=r'$3000p,s345678,ss1m$')\n",
    "plt.plot(turn3,dE3,label=r'$3000p,s567890,ss1m$')\n",
    "plt.ylim([-6.5,-5])\n",
    "plt.xlim([2,np.max(turn)])\n",
    "plt.legend()\n",
    "plt.ylabel(r'$dE$')\n",
    "plt.xlabel(r'$turn$')\n",
    "plt.tight_layout()\n",
    "#plt.savefig('dE.eps')\n",
    "plt.show()\n",
    "\n",
    "plt.figure(figsize=(5,3))\n",
    "plt.plot(turn1,sigE1,label=r'$3000p,s123456,ss1m$')\n",
    "plt.plot(turn2,sigE2,label=r'$3000p,s345678,ss1m$')\n",
    "plt.plot(turn3,sigE3,label=r'$3000p,s567890,ss1m$')\n",
    "plt.ylim([0,2])\n",
    "plt.xlim([2,np.max(turn)])\n",
    "plt.legend()\n",
    "plt.ylabel(r'$sigE$')\n",
    "plt.xlabel(r'$turn$')\n",
    "plt.tight_layout()\n",
    "#plt.savefig('sigE.eps')\n",
    "plt.show()"
   ]
  },
  {
   "cell_type": "code",
   "execution_count": null,
   "metadata": {},
   "outputs": [],
   "source": [
    "## %matplotlib inline\n",
    "\n",
    "import numpy as np\n",
    "import matplotlib.pyplot as plt\n",
    "import os\n",
    "FL=os.getcwd()\n",
    "print FL\n",
    "\n",
    "turn1,emi31,xpm31,dE1,sigE1,theo_dEav1,Eav_phot1,Erms_phot1=np.loadtxt('%s/%s'%(FL,'zgoubi_3000p_s123456_ss0.5cm.SRLOSS.Out'),skiprows=5,usecols=(4,27,31,35,36,37,38,39),unpack=True)\n",
    "turn2,emi32,xpm32,dE2,sigE2,theo_dEav2,Eav_phot2,Erms_phot2=np.loadtxt('%s/%s'%(FL,'zgoubi_3000p_s123456_ss1cm.SRLOSS.Out'),skiprows=5,usecols=(4,27,31,35,36,37,38,39),unpack=True)\n",
    "turn3,emi33,xpm33,dE3,sigE3,theo_dEav3,Eav_phot3,Erms_phot3=np.loadtxt('%s/%s'%(FL,'zgoubi_3000p_s123456_ss2cm.SRLOSS.Out'),skiprows=5,usecols=(4,27,31,35,36,37,38,39),unpack=True)\n",
    "turn4,emi34,xpm34,dE4,sigE4,theo_dEav4,Eav_phot4,Erms_phot4=np.loadtxt('%s/%s'%(FL,'zgoubi_3000p_s123456_ss3cm.SRLOSS.Out'),skiprows=5,usecols=(4,27,31,35,36,37,38,39),unpack=True)\n",
    "\n",
    "plt.figure(figsize=(5,3))\n",
    "plt.plot(turn1,emi31,label=r'$3000p,s123456,ss0.5m$')\n",
    "plt.plot(turn2,emi32,label=r'$3000p,s123456,ss1m$')\n",
    "plt.plot(turn3,emi33,label=r'$3000p,s123456,ss2m$')\n",
    "plt.plot(turn4,emi34,label=r'$3000p,s123456,ss3m$')\n",
    "plt.ylim([0,6e-4])\n",
    "plt.xlim([2,np.max(turn1)])\n",
    "plt.legend()\n",
    "plt.ylabel(r'$Log_Emi$')\n",
    "plt.xlabel(r'$turn$')\n",
    "plt.tight_layout()\n",
    "#plt.savefig('LongEmi.png')\n",
    "plt.show()\n",
    "\n",
    "plt.figure(figsize=(5,3))\n",
    "plt.plot(turn1,xpm31,label=r'$3000p,s123456,ss0.5m$')\n",
    "plt.plot(turn2,xpm32,label=r'$3000p,s123456,ss1m$')\n",
    "plt.plot(turn3,xpm33,label=r'$3000p,s123456,ss2m$')\n",
    "plt.plot(turn4,xpm34,label=r'$3000p,s123456,ss3m$')\n",
    "plt.ylim([1.78e4,1.8e4])\n",
    "plt.xlim([2,np.max(turn1)])\n",
    "plt.legend()\n",
    "plt.ylabel(r'$P$')\n",
    "plt.xlabel(r'$turn$')\n",
    "plt.tight_layout()\n",
    "#plt.savefig('P.png')\n",
    "plt.show()\n",
    "\n",
    "plt.figure(figsize=(5,4))\n",
    "plt.plot(turn1,dE1,label=r'$3000p,s123456,ss0.5m$')\n",
    "plt.plot(turn2,dE2,label=r'$3000p,s123456,ss1m$')\n",
    "plt.plot(turn3,dE3,label=r'$3000p,s123456,ss2m$')\n",
    "plt.plot(turn4,dE4,label=r'$3000p,s123456,ss3m$')\n",
    "plt.ylim([-6.5,-5])\n",
    "plt.xlim([2,np.max(turn)])\n",
    "plt.legend()\n",
    "plt.ylabel(r'$dE$')\n",
    "plt.xlabel(r'$turn$')\n",
    "plt.tight_layout()\n",
    "#plt.savefig('dE.eps')\n",
    "plt.show()\n",
    "\n",
    "plt.figure(figsize=(5,4))\n",
    "plt.plot(turn1,sigE1,label=r'$3000p,s123456,ss0.5m$')\n",
    "plt.plot(turn2,sigE2,label=r'$3000p,s123456,ss1m$')\n",
    "plt.plot(turn3,sigE3,label=r'$3000p,s123456,ss2m$')\n",
    "plt.plot(turn3,sigE3,label=r'$3000p,s123456,ss3m$')\n",
    "plt.ylim([0,2])\n",
    "plt.xlim([2,np.max(turn)])\n",
    "plt.legend()\n",
    "plt.ylabel(r'$sigE$')\n",
    "plt.xlabel(r'$turn$')\n",
    "plt.tight_layout()\n",
    "#plt.savefig('sigE.eps')\n",
    "plt.show()"
   ]
  }
 ],
 "metadata": {
  "kernelspec": {
   "display_name": "Python 2",
   "language": "python",
   "name": "py2"
  },
  "language_info": {
   "codemirror_mode": {
    "name": "ipython",
    "version": 2
   },
   "file_extension": ".py",
   "mimetype": "text/x-python",
   "name": "python",
   "nbconvert_exporter": "python",
   "pygments_lexer": "ipython2",
   "version": "2.7.16"
  }
 },
 "nbformat": 4,
 "nbformat_minor": 4
}
